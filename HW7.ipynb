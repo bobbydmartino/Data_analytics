{
 "cells": [
  {
   "cell_type": "markdown",
   "metadata": {
    "collapsed": true
   },
   "source": [
    "# Robert Martino \n",
    "# Data Analytics Hw 7\n",
    "### 11/30/2018"
   ]
  },
  {
   "cell_type": "markdown",
   "metadata": {},
   "source": [
    "#### A quick note on formatting/language etc.:\n",
    "So I decided to use python in a jupyter notebook because I'd like to say that I felt that the best way to truly understand the material is to implement it in a language where I can't just copypasta from the lectures and the labs. But more honestly it is that the place I am going to be starting in a month as a data scientist is a 100% python shop, and though I have a long history with and used python in Machine Learning from data with Malik, Data Mining with Zaki, Deep Learning with Xi, my previous internships, etc.  I figured that this would be a great refresher on the job skills expected of me on day 1, where the principles acquired in this class will be on full display (thank you for that, I learned a lot about preprocessing/analysis and some more interesting models I had not come across before, and details of models I hadn't fully appreciated). While I do like R and had a good experience with it this semester, and also in Data Mathematics with Piper, I really struggled to resist the temptation and eventually conceeded to my pythonic urges. I apologize."
   ]
  },
  {
   "cell_type": "markdown",
   "metadata": {},
   "source": [
    "## Saluting the Red, White, and Booze: What will it be tonight?"
   ]
  },
  {
   "cell_type": "markdown",
   "metadata": {},
   "source": [
    "### Ultimately my goal here is to be able to use the features available to classify between red and white, and use insight from that to determine what wine to choose based on what you are in the mood for"
   ]
  },
  {
   "cell_type": "markdown",
   "metadata": {},
   "source": [
    "#### So my first matter of business was parsing the two datasets, labeling them (0 for red, 1 for wine) under the label \"color\" and concatenating them into DataFrame df\n",
    "\n",
    "#### Here we see also we have more (close to 3x) white samples than red samples. We will have to keep that in mind for plotting and vetting metrics for performance (precision/recall vs accuracy)"
   ]
  },
  {
   "cell_type": "code",
   "execution_count": 42,
   "metadata": {
    "collapsed": false,
    "scrolled": true
   },
   "outputs": [
    {
     "name": "stdout",
     "output_type": "stream",
     "text": [
      "Number of Red samples: 1599\n",
      "Number of White samples: 4898\n"
     ]
    }
   ],
   "source": [
    "import pandas as pd\n",
    "import numpy as np\n",
    "import random\n",
    "import os\n",
    "import math\n",
    "import matplotlib.pyplot as plt\n",
    "%matplotlib inline\n",
    "\n",
    "f = open(\"winequality-white.csv\")\n",
    "lines = f.readlines()\n",
    "header = filter(lambda x: x != '' and x !=';', lines[0].rstrip().split('\\\"'))\n",
    "dfwhite = pd.DataFrame([np.float32(np.array(l.rstrip().split(\";\"))) for l in lines[1:]],columns = header)\n",
    "f.close()\n",
    "\n",
    "f = open(\"winequality-red.csv\")\n",
    "lines = f.readlines()\n",
    "header = filter(lambda x: x!='' and x!=';', lines[0].rstrip().split('\\\"'))\n",
    "dfred = pd.DataFrame([np.float32(np.array(l.rstrip().split(\";\"))) for l in lines[1:]],columns = header)\n",
    "f.close()\n",
    "\n",
    "dfwhite[\"color\"] = 1\n",
    "dfred[\"color\"] = 0\n",
    "df = pd.concat([dfwhite,dfred])\n",
    "df.index = range(len(df))\n",
    "labels = df[\"color\"]\n",
    "df = df[df.columns.drop(\"color\")]\n",
    "print \"Number of Red samples: {}\".format(len(labels)-sum(labels))\n",
    "print \"Number of White samples: {}\".format(sum(labels))\n"
   ]
  },
  {
   "cell_type": "markdown",
   "metadata": {},
   "source": [
    "#### Next, I normalized the dataset around its mean"
   ]
  },
  {
   "cell_type": "code",
   "execution_count": 34,
   "metadata": {
    "collapsed": true
   },
   "outputs": [],
   "source": [
    "df_norm = (df - df.mean()) / (df.max() - df.min())"
   ]
  },
  {
   "cell_type": "markdown",
   "metadata": {},
   "source": [
    "#### Then I created df_z, a dataframe containing each columns respective z score. Because I normalized between -1 and 1 I feel more confident in Gaussian behavior and the suitability of Z score to determine outlier status.\n",
    "\n",
    "#### Ultimately I will not be doing analysis on df_z, but rather using it for outlier detection. I set threshold to be standard deviations from the mean that I am willing to tolerate for any feature of any datum\n",
    "\n",
    "#### This number was picked to keep percentage of outliers lower than 5%, which I saw as reasonable"
   ]
  },
  {
   "cell_type": "code",
   "execution_count": 38,
   "metadata": {
    "collapsed": false
   },
   "outputs": [
    {
     "name": "stdout",
     "output_type": "stream",
     "text": [
      "Number of data points: 6497\n",
      "Number of outliers: 287\n",
      "Percentage of outliers: 0.044174234262\n"
     ]
    }
   ],
   "source": [
    "df_z = pd.DataFrame()\n",
    "cols = header\n",
    "for col in cols:\n",
    "    col_zscore = col + '_zscore'\n",
    "    df_z[col_zscore] = (df[col] - df[col].mean())/df[col].std(ddof=0)\n",
    "    \n",
    "threshold = 3.5\n",
    "\n",
    "print \"Number of data points: {}\".format(len(df_z))\n",
    "\n",
    "odf_z = df_z[(df_z.max(axis=1)<threshold)]\n",
    "odf_z = odf_z[(odf_z.min(axis=1)>-1*threshold)]\n",
    "\n",
    "print \"Number of outliers: {}\".format(len(df_z)-len(odf_z))\n",
    "print \"Percentage of outliers: {}\".format(1-float(len(odf_z))/len(df_z))\n",
    "\n",
    "df_noout = df.loc[odf_z.index]\n",
    "df_norm = df_norm.loc[odf_z.index]\n",
    "df_norm[\"color\"] = labels.loc[odf_z.index]"
   ]
  },
  {
   "cell_type": "markdown",
   "metadata": {},
   "source": [
    "####  I now want to be able to visualize where the two types of wines are similar, and what are different, and I think histogram here is the best tactic for doing this. I do realize that in the line under \"HIST CALL\" I have to put \"normed=TRUE\", which makes it seem like there is as many reds as whites, which is helpful for our purposes"
   ]
  },
  {
   "cell_type": "code",
   "execution_count": 4,
   "metadata": {
    "collapsed": false,
    "scrolled": false
   },
   "outputs": [
    {
     "data": {
      "image/png": "[encoded data removed]",
      "text/plain": [
       "<matplotlib.figure.Figure at 0x7fc2a0ca90d0>"
      ]
     },
     "metadata": {},
     "output_type": "display_data"
    }
   ],
   "source": [
    "data_cols = header\n",
    "data = df_norm\n",
    "\n",
    "axarr = [[]]*len(data_cols)\n",
    "columns = 4\n",
    "rows = int( np.ceil( len(data_cols) / columns ) )\n",
    "f, fig = plt.subplots(figsize=(columns*3.5, rows*2) )\n",
    "\n",
    "f.suptitle('Data Distributions by Feature and Class', size=16)\n",
    "\n",
    "for i, col in enumerate(data_cols[:]):\n",
    "    axarr[i] = plt.subplot2grid( (int(rows), int(columns)), (int(i//columns), int(i%columns)))\n",
    "    \n",
    "    red = data.loc[data.color == 0,col]\n",
    "    white = data.loc[data.color == 1, col]\n",
    "    b = np.linspace(np.percentile(data[col],0.1), np.percentile(data[col],99.9), 30)\n",
    "    \n",
    "    #HIST CALL\n",
    "    axarr[i].hist([red,white], label=['red','white'],bins=b,normed=True,color=[\"red\",\"white\"] )\n",
    "    \n",
    "    \n",
    "    axarr[i].set_xlabel(col, size=12)\n",
    "    axarr[i].tick_params(axis='both', labelsize=10)\n",
    "    \n",
    "    if i%columns != 0 : \n",
    "        axarr[i].tick_params(axis='y', left='off', labelleft='off')\n",
    "    else:\n",
    "        axarr[i].set_ylabel('Amount',size=12)\n",
    "\n",
    "plt.tight_layout(rect=[0,0,1,0.95]) # xmin, ymin, xmax, ymax\n",
    "# plt.savefig('plots/Engineered_Data_Distributions.png')\n",
    "plt.show()"
   ]
  },
  {
   "cell_type": "markdown",
   "metadata": {},
   "source": [
    "#### We see this analysis is very successful. Total sulfur dioxide, chlorides, density, and free sulfur dioxide have distinct means and variances, whereas alcohol, quality etc. don't seem to make a distinction. "
   ]
  },
  {
   "cell_type": "markdown",
   "metadata": {},
   "source": []
  },
  {
   "cell_type": "markdown",
   "metadata": {},
   "source": [
    "### The first model I want to try is a boosted decision tree model. This is definitely a model I have not had the pleasure of trying out before but I find the concept really cool and if for anything else except experience sake I want to give it a whirl.\n",
    "\n",
    "#### I'll be using the xgboost package, standard fare"
   ]
  },
  {
   "cell_type": "code",
   "execution_count": 43,
   "metadata": {
    "collapsed": false
   },
   "outputs": [],
   "source": [
    "import xgboost as xgb"
   ]
  },
  {
   "cell_type": "markdown",
   "metadata": {},
   "source": [
    "#### I'll also be using metrics for performance from sklearn. As alluded to with uneven number of samples, and train/test split for obvious reasons"
   ]
  },
  {
   "cell_type": "code",
   "execution_count": 45,
   "metadata": {
    "collapsed": true
   },
   "outputs": [],
   "source": [
    "from sklearn.metrics import recall_score, precision_score,roc_auc_score,confusion_matrix,accuracy_score \n",
    "from sklearn.cross_validation import train_test_split  "
   ]
  },
  {
   "cell_type": "markdown",
   "metadata": {},
   "source": [
    "#### Give it a good 80/20 split as is tradition. Random seed set at 100 because that's how I like to keep it"
   ]
  },
  {
   "cell_type": "code",
   "execution_count": 94,
   "metadata": {
    "collapsed": false
   },
   "outputs": [],
   "source": [
    "X = df_norm.drop('color', axis=1)  \n",
    "y = df_norm['color']  \n",
    "X_train, X_test, y_train, y_test = train_test_split(X, y, \n",
    "                                                    test_size=0.20,\n",
    "                                                    random_state=100)"
   ]
  },
  {
   "cell_type": "markdown",
   "metadata": {
    "collapsed": false
   },
   "source": [
    "#### Define some custom metric functions for use with the xgboost algorithm\n",
    "###### https://github.com/dmlc/xgboost/blob/master/demo/guide-python/custom_objective.py"
   ]
  },
  {
   "cell_type": "code",
   "execution_count": 8,
   "metadata": {
    "collapsed": true
   },
   "outputs": [],
   "source": [
    "def recall(preds, dtrain):\n",
    "    labels = dtrain.get_label()\n",
    "    return 'recall',  recall_score(labels, np.round(preds))\n",
    "\n",
    "def precision(preds, dtrain):\n",
    "    labels = dtrain.get_label()\n",
    "    return 'precision',  precision_score(labels, np.round(preds))\n",
    "\n",
    "def roc_auc(preds, dtrain):\n",
    "    labels = dtrain.get_label()\n",
    "    return 'roc_auc',  roc_auc_score(labels, preds)"
   ]
  },
  {
   "cell_type": "code",
   "execution_count": 9,
   "metadata": {
    "collapsed": false
   },
   "outputs": [
    {
     "name": "stdout",
     "output_type": "stream",
     "text": [
      "Number Train: 4968\n",
      "Number Test: 1242\n"
     ]
    }
   ],
   "source": [
    "print \"Number Train:\",len(y_train)\n",
    "print \"Number Test:\",len(y_test)\n",
    "dtrain = xgb.DMatrix(X_train, y_train, feature_names=X_train.columns)\n",
    "dtest = xgb.DMatrix(X_test, y_test, feature_names=X_train.columns)"
   ]
  },
  {
   "cell_type": "markdown",
   "metadata": {},
   "source": [
    "#### My objective here is to maximize recall on the test set. That way precision will follow, and therefore accuracy. I'm setting early stopping to 100, as I don't think that'll come into play at a dataset this small, given my number of boost rounds being set conservatively at 20. While I want to avoid overfitting the boosting should help with that."
   ]
  },
  {
   "cell_type": "code",
   "execution_count": null,
   "metadata": {
    "collapsed": false,
    "scrolled": true
   },
   "outputs": [],
   "source": [
    "xgb_params = {\n",
    "    'max_depth': 4,\n",
    "    'objective': 'binary:logistic',\n",
    "    'random_state': 100,\n",
    "    'eval_metric': 'auc', \n",
    "}\n",
    "\n",
    "results_dict = {}\n",
    "xgb_test = xgb.train(xgb_params, dtrain, num_boost_round=20, \n",
    "                     verbose_eval=False,\n",
    "                     early_stopping_rounds=100, \n",
    "                     evals=[(dtrain,'train'),(dtest,'test')],\n",
    "                     evals_result = results_dict,              \n",
    "                     feval = recall, maximize=True\n",
    "                    )"
   ]
  },
  {
   "cell_type": "markdown",
   "metadata": {},
   "source": [
    "#### We now have the results. Wow. We killed it. 20 was a good number of iterations. I thought it was a little low but boy did it find a maximum fast. I immediately get a whiff of overfitting, because those values (accuracy, recall, area under curve) are shockingly high. But with it being a powerful model with very distinct, chemical (read: real world) features, this may be simply a solid model that is correctly distinguishing between red and white wine, a task which is obvious to anyone who is sighted or has the sense of taste."
   ]
  },
  {
   "cell_type": "code",
   "execution_count": 11,
   "metadata": {
    "collapsed": false
   },
   "outputs": [
    {
     "name": "stdout",
     "output_type": "stream",
     "text": [
      "best iteration:  6\n",
      "('recall', 1.0)\n",
      "('precision', 0.99275362318840576)\n",
      "('roc_auc', 0.98763250883392228)\n",
      "('Accuracy', 0.99436392914653782)\n",
      "       Red  White\n",
      "Red    276      7\n",
      "White    0    959\n"
     ]
    },
    {
     "data": {
      "image/png": "[encoded data removed]",
      "text/plain": [
       "<matplotlib.figure.Figure at 0x7fc284159290>"
      ]
     },
     "metadata": {},
     "output_type": "display_data"
    }
   ],
   "source": [
    "y_pred = xgb_test.predict(dtest, ntree_limit=xgb_test.best_iteration+1)\n",
    "y_pred = np.round(y_pred,decimals=0,out=None)\n",
    "y_true = y_test.values\n",
    "\n",
    "print 'best iteration: ', xgb_test.best_iteration \n",
    "print recall( y_pred, dtest ) \n",
    "print precision( y_pred, dtest ) \n",
    "print roc_auc( y_pred, dtest ) \n",
    "\n",
    "\n",
    "print (\"Accuracy\",accuracy_score(y_true, y_pred))\n",
    "print pd.DataFrame(confusion_matrix(y_true, y_pred),index=[\"Red\",\"White\"],columns=[\"Red\",\"White\"])\n",
    "\n",
    "for i in results_dict:\n",
    "    for err in results_dict[i]:\n",
    "        plt.plot(results_dict[i][err], label=i+' '+err)   \n",
    "        \n",
    "plt.axvline(xgb_test.best_iteration, c='green', label='best iteration')\n",
    "\n",
    "plt.xlabel('iteration')\n",
    "plt.title('xgboost learning curves')\n",
    "plt.legend(loc='upper center', bbox_to_anchor=(0.5, -0.05),\n",
    "          fancybox=True, shadow=True, ncol=5)\n",
    "plt.grid() ;"
   ]
  },
  {
   "cell_type": "markdown",
   "metadata": {},
   "source": [
    "#### the confusion matrix is interesting as well. We see that the misclassifications that occured were reds mistaken as white. This could be an artifact of the particular random seed, or it would be because we have ourselves a white majority."
   ]
  },
  {
   "cell_type": "markdown",
   "metadata": {},
   "source": []
  },
  {
   "cell_type": "markdown",
   "metadata": {},
   "source": [
    "#### Now let us look at importance of features. We aren't looking for which way they predict (that will be for our next model) but simply how important they are for distinguishing between the two. "
   ]
  },
  {
   "cell_type": "code",
   "execution_count": 12,
   "metadata": {
    "collapsed": false
   },
   "outputs": [
    {
     "data": {
      "image/png": "[encoded data removed]",
      "text/plain": [
       "<matplotlib.figure.Figure at 0x7fc284172710>"
      ]
     },
     "metadata": {},
     "output_type": "display_data"
    }
   ],
   "source": [
    "# Plot feature importances\n",
    "fig, ax = plt.subplots(1, 1, figsize=(8, 8))\n",
    "xgb.plot_importance(xgb_test, max_num_features=15, height=0.5, ax=ax);"
   ]
  },
  {
   "cell_type": "code",
   "execution_count": null,
   "metadata": {
    "collapsed": true
   },
   "outputs": [],
   "source": []
  },
  {
   "cell_type": "markdown",
   "metadata": {},
   "source": [
    "### The next model looked at was an svm. This is a good model when there exists an uneven number of samples per class because the only things that matter to its out of sample error are number of support vectors"
   ]
  },
  {
   "cell_type": "code",
   "execution_count": 91,
   "metadata": {
    "collapsed": false
   },
   "outputs": [],
   "source": [
    "from sklearn import svm\n",
    "from mlxtend.plotting import plot_decision_regions"
   ]
  },
  {
   "cell_type": "markdown",
   "metadata": {},
   "source": [
    "#### I used the linear kernel on this svm, as it has the fewest degrees of freedom comparatively and given xgboost's quick convergence I don't think a more complex model would help much. I chose C=2 and degree=4, tolerance=0.01, with similar reasoning. Accuracy was almost identical to xgboost. Moving on..."
   ]
  },
  {
   "cell_type": "code",
   "execution_count": 95,
   "metadata": {
    "collapsed": false
   },
   "outputs": [
    {
     "name": "stdout",
     "output_type": "stream",
     "text": [
      "Accuracy: 99.114331723%\n"
     ]
    }
   ],
   "source": [
    "clf = svm.SVC(kernel='linear',C=2,degree=4,tol=0.01)\n",
    "clf.fit(X_train, y_train)\n",
    "clf_predictions = clf.predict(X_test)\n",
    "print(\"Accuracy: {}%\".format(clf.score(X_test, y_test) * 100 ))"
   ]
  },
  {
   "cell_type": "markdown",
   "metadata": {},
   "source": [
    "#### PLotting cholorides (from the insight of the above chart) vs all other features (to keep it 2-D) Here we see some of the synergy between other important features, such as total sulfur dioxide."
   ]
  },
  {
   "cell_type": "code",
   "execution_count": 96,
   "metadata": {
    "collapsed": false
   },
   "outputs": [
    {
     "data": {
      "image/png": "[encoded data removed]",
      "text/plain": [
       "<matplotlib.figure.Figure at 0x7fc26345bb10>"
      ]
     },
     "metadata": {},
     "output_type": "display_data"
    }
   ],
   "source": [
    "fig, axarr = plt.subplots(3, 4, figsize=(10,8), sharex=True, sharey=True)\n",
    "values = [0, 0, 0, 0]\n",
    "width = 1\n",
    "value = 0\n",
    "\n",
    "cols = X_train.columns\n",
    "feat1 = cols.get_loc(\"chlorides\")\n",
    "\n",
    "no_feat1 = range(0,12)\n",
    "no_feat1.pop(feat1)\n",
    "\n",
    "for feat2,ax in zip(no_feat1,axarr.flat):\n",
    "    r = range(0,12)\n",
    "    r.pop(feat1)\n",
    "    if feat2 < feat1:\n",
    "        r.pop(feat2)\n",
    "    else:\n",
    "        r.pop(feat2-1)\n",
    "    plot_decision_regions(X_train.values, y_train.values, clf=clf,\n",
    "                          filler_feature_values={x: value for x in r},\n",
    "                          filler_feature_ranges={x: width for x in r},\n",
    "                          feature_index=[feat1,feat2],\n",
    "                          legend=2, ax=ax)\n",
    "    ax.set_xlabel(X_train.columns[feat1])\n",
    "    ax.set_ylabel(X_train.columns[feat2])\n",
    "    ax.set_ylim(bottom=-0.5,top=0.5)\n",
    "    ax.set_xlim(left=-0.5,right=0.5)\n",
    "\n",
    "plt.tight_layout()\n",
    "plt.show()"
   ]
  },
  {
   "cell_type": "markdown",
   "metadata": {},
   "source": [
    "#### We also get to see here things like quality and alcohol not really mattering, as xgboost told us."
   ]
  },
  {
   "cell_type": "code",
   "execution_count": 97,
   "metadata": {
    "collapsed": false
   },
   "outputs": [
    {
     "data": {
      "image/png": "[encoded data removed]",
      "text/plain": [
       "<matplotlib.figure.Figure at 0x7fc26345b110>"
      ]
     },
     "metadata": {},
     "output_type": "display_data"
    }
   ],
   "source": [
    "# https://medium.com/@aneesha/visualising-top-features-in-linear-svm-with-scikit-learn-and-matplotlib-3454ab18a14d\n",
    "def plot_coefficients(classifier, feature_names, top_features=6):\n",
    "    coef = classifier.coef_.ravel()\n",
    "    top_positive_coefficients = np.argsort(coef)[-top_features:]\n",
    "    top_negative_coefficients = np.argsort(coef)[:top_features]\n",
    "    top_coefficients = np.hstack([top_negative_coefficients, top_positive_coefficients])\n",
    "    plt.figure(figsize=(15, 5))\n",
    "    colors = ['red' if c < 0 else 'blue' for c in coef[top_coefficients]]\n",
    "    plt.bar(np.arange(2 * top_features), coef[top_coefficients], color=colors)\n",
    "    feature_names = np.array(feature_names)\n",
    "    plt.xticks(np.arange(1, 1 + 2 * top_features), feature_names[top_coefficients], rotation=60, ha='right')\n",
    "    plt.show()\n",
    "    \n",
    "plot_coefficients(clf, X_train.columns)"
   ]
  },
  {
   "cell_type": "markdown",
   "metadata": {
    "collapsed": true
   },
   "source": [
    "#### The benefit of the svm is that it gives directional importance based on its features. Here we see insights into making prescriptions as well as predictions."
   ]
  },
  {
   "cell_type": "markdown",
   "metadata": {
    "collapsed": true
   },
   "source": [
    "#### Ultimately it comes down to what are you in the mood for. It is easy to take a series of features and predict whether you'd fancy a red or a white, the xgboost and svm could both do that very easily. The decision based on a single feature is now more easily determined by the above chart. Do you want something sweet, slightly acidic, airy wine?  Try a white. Would you like an acidic, dense tart wine? How about a red, perhaps merlot?"
   ]
  },
  {
   "cell_type": "code",
   "execution_count": null,
   "metadata": {
    "collapsed": true
   },
   "outputs": [],
   "source": []
  },
  {
   "cell_type": "code",
   "execution_count": null,
   "metadata": {
    "collapsed": true
   },
   "outputs": [],
   "source": []
  },
  {
   "cell_type": "markdown",
   "metadata": {},
   "source": [
    "## Who should we annoy at dinner today? Determining who will fall for bank sales pitches over the phone"
   ]
  },
  {
   "cell_type": "markdown",
   "metadata": {},
   "source": [
    "#### Here we have the bank sales dataset. First we parse out the data into dfbank. Then break it out into categorical vs numeric. This is important as this feature distinction will be the one we're using to predict and analyze the data"
   ]
  },
  {
   "cell_type": "code",
   "execution_count": 99,
   "metadata": {
    "collapsed": false
   },
   "outputs": [
    {
     "data": {
      "text/html": [
       "<div>\n",
       "<table border=\"1\" class=\"dataframe\">\n",
       "  <thead>\n",
       "    <tr style=\"text-align: right;\">\n",
       "      <th></th>\n",
       "      <th>age</th>\n",
       "      <th>job</th>\n",
       "      <th>marital</th>\n",
       "      <th>education</th>\n",
       "      <th>default</th>\n",
       "      <th>balance</th>\n",
       "      <th>housing</th>\n",
       "      <th>loan</th>\n",
       "      <th>contact</th>\n",
       "      <th>day</th>\n",
       "      <th>month</th>\n",
       "      <th>duration</th>\n",
       "      <th>campaign</th>\n",
       "      <th>pdays</th>\n",
       "      <th>previous</th>\n",
       "      <th>poutcome</th>\n",
       "      <th>y</th>\n",
       "    </tr>\n",
       "  </thead>\n",
       "  <tbody>\n",
       "    <tr>\n",
       "      <th>0</th>\n",
       "      <td>30.0</td>\n",
       "      <td>unemployed</td>\n",
       "      <td>married</td>\n",
       "      <td>primary</td>\n",
       "      <td>0.0</td>\n",
       "      <td>1787.0</td>\n",
       "      <td>0.0</td>\n",
       "      <td>0.0</td>\n",
       "      <td>cellular</td>\n",
       "      <td>19</td>\n",
       "      <td>oct</td>\n",
       "      <td>79.0</td>\n",
       "      <td>1</td>\n",
       "      <td>-1</td>\n",
       "      <td>0.0</td>\n",
       "      <td>unknown</td>\n",
       "      <td>0.0</td>\n",
       "    </tr>\n",
       "    <tr>\n",
       "      <th>1</th>\n",
       "      <td>33.0</td>\n",
       "      <td>services</td>\n",
       "      <td>married</td>\n",
       "      <td>secondary</td>\n",
       "      <td>0.0</td>\n",
       "      <td>4789.0</td>\n",
       "      <td>1.0</td>\n",
       "      <td>1.0</td>\n",
       "      <td>cellular</td>\n",
       "      <td>11</td>\n",
       "      <td>may</td>\n",
       "      <td>220.0</td>\n",
       "      <td>1</td>\n",
       "      <td>339</td>\n",
       "      <td>4.0</td>\n",
       "      <td>failure</td>\n",
       "      <td>0.0</td>\n",
       "    </tr>\n",
       "    <tr>\n",
       "      <th>2</th>\n",
       "      <td>35.0</td>\n",
       "      <td>management</td>\n",
       "      <td>single</td>\n",
       "      <td>tertiary</td>\n",
       "      <td>0.0</td>\n",
       "      <td>1350.0</td>\n",
       "      <td>1.0</td>\n",
       "      <td>0.0</td>\n",
       "      <td>cellular</td>\n",
       "      <td>16</td>\n",
       "      <td>apr</td>\n",
       "      <td>185.0</td>\n",
       "      <td>1</td>\n",
       "      <td>330</td>\n",
       "      <td>1.0</td>\n",
       "      <td>failure</td>\n",
       "      <td>0.0</td>\n",
       "    </tr>\n",
       "    <tr>\n",
       "      <th>3</th>\n",
       "      <td>30.0</td>\n",
       "      <td>management</td>\n",
       "      <td>married</td>\n",
       "      <td>tertiary</td>\n",
       "      <td>0.0</td>\n",
       "      <td>1476.0</td>\n",
       "      <td>1.0</td>\n",
       "      <td>1.0</td>\n",
       "      <td>unknown</td>\n",
       "      <td>3</td>\n",
       "      <td>jun</td>\n",
       "      <td>199.0</td>\n",
       "      <td>4</td>\n",
       "      <td>-1</td>\n",
       "      <td>0.0</td>\n",
       "      <td>unknown</td>\n",
       "      <td>0.0</td>\n",
       "    </tr>\n",
       "    <tr>\n",
       "      <th>4</th>\n",
       "      <td>59.0</td>\n",
       "      <td>blue-collar</td>\n",
       "      <td>married</td>\n",
       "      <td>secondary</td>\n",
       "      <td>0.0</td>\n",
       "      <td>0.0</td>\n",
       "      <td>1.0</td>\n",
       "      <td>0.0</td>\n",
       "      <td>unknown</td>\n",
       "      <td>5</td>\n",
       "      <td>may</td>\n",
       "      <td>226.0</td>\n",
       "      <td>1</td>\n",
       "      <td>-1</td>\n",
       "      <td>0.0</td>\n",
       "      <td>unknown</td>\n",
       "      <td>0.0</td>\n",
       "    </tr>\n",
       "    <tr>\n",
       "      <th>5</th>\n",
       "      <td>35.0</td>\n",
       "      <td>management</td>\n",
       "      <td>single</td>\n",
       "      <td>tertiary</td>\n",
       "      <td>0.0</td>\n",
       "      <td>747.0</td>\n",
       "      <td>0.0</td>\n",
       "      <td>0.0</td>\n",
       "      <td>cellular</td>\n",
       "      <td>23</td>\n",
       "      <td>feb</td>\n",
       "      <td>141.0</td>\n",
       "      <td>2</td>\n",
       "      <td>176</td>\n",
       "      <td>3.0</td>\n",
       "      <td>failure</td>\n",
       "      <td>0.0</td>\n",
       "    </tr>\n",
       "    <tr>\n",
       "      <th>6</th>\n",
       "      <td>36.0</td>\n",
       "      <td>self-employed</td>\n",
       "      <td>married</td>\n",
       "      <td>tertiary</td>\n",
       "      <td>0.0</td>\n",
       "      <td>307.0</td>\n",
       "      <td>1.0</td>\n",
       "      <td>0.0</td>\n",
       "      <td>cellular</td>\n",
       "      <td>14</td>\n",
       "      <td>may</td>\n",
       "      <td>341.0</td>\n",
       "      <td>1</td>\n",
       "      <td>330</td>\n",
       "      <td>2.0</td>\n",
       "      <td>other</td>\n",
       "      <td>0.0</td>\n",
       "    </tr>\n",
       "    <tr>\n",
       "      <th>7</th>\n",
       "      <td>39.0</td>\n",
       "      <td>technician</td>\n",
       "      <td>married</td>\n",
       "      <td>secondary</td>\n",
       "      <td>0.0</td>\n",
       "      <td>147.0</td>\n",
       "      <td>1.0</td>\n",
       "      <td>0.0</td>\n",
       "      <td>cellular</td>\n",
       "      <td>6</td>\n",
       "      <td>may</td>\n",
       "      <td>151.0</td>\n",
       "      <td>2</td>\n",
       "      <td>-1</td>\n",
       "      <td>0.0</td>\n",
       "      <td>unknown</td>\n",
       "      <td>0.0</td>\n",
       "    </tr>\n",
       "    <tr>\n",
       "      <th>8</th>\n",
       "      <td>41.0</td>\n",
       "      <td>entrepreneur</td>\n",
       "      <td>married</td>\n",
       "      <td>tertiary</td>\n",
       "      <td>0.0</td>\n",
       "      <td>221.0</td>\n",
       "      <td>1.0</td>\n",
       "      <td>0.0</td>\n",
       "      <td>unknown</td>\n",
       "      <td>14</td>\n",
       "      <td>may</td>\n",
       "      <td>57.0</td>\n",
       "      <td>2</td>\n",
       "      <td>-1</td>\n",
       "      <td>0.0</td>\n",
       "      <td>unknown</td>\n",
       "      <td>0.0</td>\n",
       "    </tr>\n",
       "    <tr>\n",
       "      <th>9</th>\n",
       "      <td>43.0</td>\n",
       "      <td>services</td>\n",
       "      <td>married</td>\n",
       "      <td>primary</td>\n",
       "      <td>0.0</td>\n",
       "      <td>-88.0</td>\n",
       "      <td>1.0</td>\n",
       "      <td>1.0</td>\n",
       "      <td>cellular</td>\n",
       "      <td>17</td>\n",
       "      <td>apr</td>\n",
       "      <td>313.0</td>\n",
       "      <td>1</td>\n",
       "      <td>147</td>\n",
       "      <td>2.0</td>\n",
       "      <td>failure</td>\n",
       "      <td>0.0</td>\n",
       "    </tr>\n",
       "    <tr>\n",
       "      <th>10</th>\n",
       "      <td>39.0</td>\n",
       "      <td>services</td>\n",
       "      <td>married</td>\n",
       "      <td>secondary</td>\n",
       "      <td>0.0</td>\n",
       "      <td>9374.0</td>\n",
       "      <td>1.0</td>\n",
       "      <td>0.0</td>\n",
       "      <td>unknown</td>\n",
       "      <td>20</td>\n",
       "      <td>may</td>\n",
       "      <td>273.0</td>\n",
       "      <td>1</td>\n",
       "      <td>-1</td>\n",
       "      <td>0.0</td>\n",
       "      <td>unknown</td>\n",
       "      <td>0.0</td>\n",
       "    </tr>\n",
       "    <tr>\n",
       "      <th>11</th>\n",
       "      <td>43.0</td>\n",
       "      <td>admin.</td>\n",
       "      <td>married</td>\n",
       "      <td>secondary</td>\n",
       "      <td>0.0</td>\n",
       "      <td>264.0</td>\n",
       "      <td>1.0</td>\n",
       "      <td>0.0</td>\n",
       "      <td>cellular</td>\n",
       "      <td>17</td>\n",
       "      <td>apr</td>\n",
       "      <td>113.0</td>\n",
       "      <td>2</td>\n",
       "      <td>-1</td>\n",
       "      <td>0.0</td>\n",
       "      <td>unknown</td>\n",
       "      <td>0.0</td>\n",
       "    </tr>\n",
       "    <tr>\n",
       "      <th>12</th>\n",
       "      <td>36.0</td>\n",
       "      <td>technician</td>\n",
       "      <td>married</td>\n",
       "      <td>tertiary</td>\n",
       "      <td>0.0</td>\n",
       "      <td>1109.0</td>\n",
       "      <td>0.0</td>\n",
       "      <td>0.0</td>\n",
       "      <td>cellular</td>\n",
       "      <td>13</td>\n",
       "      <td>aug</td>\n",
       "      <td>328.0</td>\n",
       "      <td>2</td>\n",
       "      <td>-1</td>\n",
       "      <td>0.0</td>\n",
       "      <td>unknown</td>\n",
       "      <td>0.0</td>\n",
       "    </tr>\n",
       "    <tr>\n",
       "      <th>13</th>\n",
       "      <td>20.0</td>\n",
       "      <td>student</td>\n",
       "      <td>single</td>\n",
       "      <td>secondary</td>\n",
       "      <td>0.0</td>\n",
       "      <td>502.0</td>\n",
       "      <td>0.0</td>\n",
       "      <td>0.0</td>\n",
       "      <td>cellular</td>\n",
       "      <td>30</td>\n",
       "      <td>apr</td>\n",
       "      <td>261.0</td>\n",
       "      <td>1</td>\n",
       "      <td>-1</td>\n",
       "      <td>0.0</td>\n",
       "      <td>unknown</td>\n",
       "      <td>1.0</td>\n",
       "    </tr>\n",
       "    <tr>\n",
       "      <th>14</th>\n",
       "      <td>31.0</td>\n",
       "      <td>blue-collar</td>\n",
       "      <td>married</td>\n",
       "      <td>secondary</td>\n",
       "      <td>0.0</td>\n",
       "      <td>360.0</td>\n",
       "      <td>1.0</td>\n",
       "      <td>1.0</td>\n",
       "      <td>cellular</td>\n",
       "      <td>29</td>\n",
       "      <td>jan</td>\n",
       "      <td>89.0</td>\n",
       "      <td>1</td>\n",
       "      <td>241</td>\n",
       "      <td>1.0</td>\n",
       "      <td>failure</td>\n",
       "      <td>0.0</td>\n",
       "    </tr>\n",
       "    <tr>\n",
       "      <th>15</th>\n",
       "      <td>40.0</td>\n",
       "      <td>management</td>\n",
       "      <td>married</td>\n",
       "      <td>tertiary</td>\n",
       "      <td>0.0</td>\n",
       "      <td>194.0</td>\n",
       "      <td>0.0</td>\n",
       "      <td>1.0</td>\n",
       "      <td>cellular</td>\n",
       "      <td>29</td>\n",
       "      <td>aug</td>\n",
       "      <td>189.0</td>\n",
       "      <td>2</td>\n",
       "      <td>-1</td>\n",
       "      <td>0.0</td>\n",
       "      <td>unknown</td>\n",
       "      <td>0.0</td>\n",
       "    </tr>\n",
       "    <tr>\n",
       "      <th>16</th>\n",
       "      <td>56.0</td>\n",
       "      <td>technician</td>\n",
       "      <td>married</td>\n",
       "      <td>secondary</td>\n",
       "      <td>0.0</td>\n",
       "      <td>4073.0</td>\n",
       "      <td>0.0</td>\n",
       "      <td>0.0</td>\n",
       "      <td>cellular</td>\n",
       "      <td>27</td>\n",
       "      <td>aug</td>\n",
       "      <td>239.0</td>\n",
       "      <td>5</td>\n",
       "      <td>-1</td>\n",
       "      <td>0.0</td>\n",
       "      <td>unknown</td>\n",
       "      <td>0.0</td>\n",
       "    </tr>\n",
       "    <tr>\n",
       "      <th>17</th>\n",
       "      <td>37.0</td>\n",
       "      <td>admin.</td>\n",
       "      <td>single</td>\n",
       "      <td>tertiary</td>\n",
       "      <td>0.0</td>\n",
       "      <td>2317.0</td>\n",
       "      <td>1.0</td>\n",
       "      <td>0.0</td>\n",
       "      <td>cellular</td>\n",
       "      <td>20</td>\n",
       "      <td>apr</td>\n",
       "      <td>114.0</td>\n",
       "      <td>1</td>\n",
       "      <td>152</td>\n",
       "      <td>2.0</td>\n",
       "      <td>failure</td>\n",
       "      <td>0.0</td>\n",
       "    </tr>\n",
       "    <tr>\n",
       "      <th>18</th>\n",
       "      <td>25.0</td>\n",
       "      <td>blue-collar</td>\n",
       "      <td>single</td>\n",
       "      <td>primary</td>\n",
       "      <td>0.0</td>\n",
       "      <td>-221.0</td>\n",
       "      <td>1.0</td>\n",
       "      <td>0.0</td>\n",
       "      <td>unknown</td>\n",
       "      <td>23</td>\n",
       "      <td>may</td>\n",
       "      <td>250.0</td>\n",
       "      <td>1</td>\n",
       "      <td>-1</td>\n",
       "      <td>0.0</td>\n",
       "      <td>unknown</td>\n",
       "      <td>0.0</td>\n",
       "    </tr>\n",
       "    <tr>\n",
       "      <th>19</th>\n",
       "      <td>31.0</td>\n",
       "      <td>services</td>\n",
       "      <td>married</td>\n",
       "      <td>secondary</td>\n",
       "      <td>0.0</td>\n",
       "      <td>132.0</td>\n",
       "      <td>0.0</td>\n",
       "      <td>0.0</td>\n",
       "      <td>cellular</td>\n",
       "      <td>7</td>\n",
       "      <td>jul</td>\n",
       "      <td>148.0</td>\n",
       "      <td>1</td>\n",
       "      <td>152</td>\n",
       "      <td>1.0</td>\n",
       "      <td>other</td>\n",
       "      <td>0.0</td>\n",
       "    </tr>\n",
       "    <tr>\n",
       "      <th>20</th>\n",
       "      <td>38.0</td>\n",
       "      <td>management</td>\n",
       "      <td>divorced</td>\n",
       "      <td>unknown</td>\n",
       "      <td>0.0</td>\n",
       "      <td>0.0</td>\n",
       "      <td>1.0</td>\n",
       "      <td>0.0</td>\n",
       "      <td>cellular</td>\n",
       "      <td>18</td>\n",
       "      <td>nov</td>\n",
       "      <td>96.0</td>\n",
       "      <td>2</td>\n",
       "      <td>-1</td>\n",
       "      <td>0.0</td>\n",
       "      <td>unknown</td>\n",
       "      <td>0.0</td>\n",
       "    </tr>\n",
       "    <tr>\n",
       "      <th>21</th>\n",
       "      <td>42.0</td>\n",
       "      <td>management</td>\n",
       "      <td>divorced</td>\n",
       "      <td>tertiary</td>\n",
       "      <td>0.0</td>\n",
       "      <td>16.0</td>\n",
       "      <td>0.0</td>\n",
       "      <td>0.0</td>\n",
       "      <td>cellular</td>\n",
       "      <td>19</td>\n",
       "      <td>nov</td>\n",
       "      <td>140.0</td>\n",
       "      <td>3</td>\n",
       "      <td>-1</td>\n",
       "      <td>0.0</td>\n",
       "      <td>unknown</td>\n",
       "      <td>0.0</td>\n",
       "    </tr>\n",
       "    <tr>\n",
       "      <th>22</th>\n",
       "      <td>44.0</td>\n",
       "      <td>services</td>\n",
       "      <td>single</td>\n",
       "      <td>secondary</td>\n",
       "      <td>0.0</td>\n",
       "      <td>106.0</td>\n",
       "      <td>0.0</td>\n",
       "      <td>0.0</td>\n",
       "      <td>unknown</td>\n",
       "      <td>12</td>\n",
       "      <td>jun</td>\n",
       "      <td>109.0</td>\n",
       "      <td>2</td>\n",
       "      <td>-1</td>\n",
       "      <td>0.0</td>\n",
       "      <td>unknown</td>\n",
       "      <td>0.0</td>\n",
       "    </tr>\n",
       "    <tr>\n",
       "      <th>23</th>\n",
       "      <td>44.0</td>\n",
       "      <td>entrepreneur</td>\n",
       "      <td>married</td>\n",
       "      <td>secondary</td>\n",
       "      <td>0.0</td>\n",
       "      <td>93.0</td>\n",
       "      <td>0.0</td>\n",
       "      <td>0.0</td>\n",
       "      <td>cellular</td>\n",
       "      <td>7</td>\n",
       "      <td>jul</td>\n",
       "      <td>125.0</td>\n",
       "      <td>2</td>\n",
       "      <td>-1</td>\n",
       "      <td>0.0</td>\n",
       "      <td>unknown</td>\n",
       "      <td>0.0</td>\n",
       "    </tr>\n",
       "    <tr>\n",
       "      <th>24</th>\n",
       "      <td>26.0</td>\n",
       "      <td>housemaid</td>\n",
       "      <td>married</td>\n",
       "      <td>tertiary</td>\n",
       "      <td>0.0</td>\n",
       "      <td>543.0</td>\n",
       "      <td>0.0</td>\n",
       "      <td>0.0</td>\n",
       "      <td>cellular</td>\n",
       "      <td>30</td>\n",
       "      <td>jan</td>\n",
       "      <td>169.0</td>\n",
       "      <td>3</td>\n",
       "      <td>-1</td>\n",
       "      <td>0.0</td>\n",
       "      <td>unknown</td>\n",
       "      <td>0.0</td>\n",
       "    </tr>\n",
       "    <tr>\n",
       "      <th>25</th>\n",
       "      <td>41.0</td>\n",
       "      <td>management</td>\n",
       "      <td>married</td>\n",
       "      <td>tertiary</td>\n",
       "      <td>0.0</td>\n",
       "      <td>5883.0</td>\n",
       "      <td>0.0</td>\n",
       "      <td>0.0</td>\n",
       "      <td>cellular</td>\n",
       "      <td>20</td>\n",
       "      <td>nov</td>\n",
       "      <td>182.0</td>\n",
       "      <td>2</td>\n",
       "      <td>-1</td>\n",
       "      <td>0.0</td>\n",
       "      <td>unknown</td>\n",
       "      <td>0.0</td>\n",
       "    </tr>\n",
       "    <tr>\n",
       "      <th>26</th>\n",
       "      <td>55.0</td>\n",
       "      <td>blue-collar</td>\n",
       "      <td>married</td>\n",
       "      <td>primary</td>\n",
       "      <td>0.0</td>\n",
       "      <td>627.0</td>\n",
       "      <td>1.0</td>\n",
       "      <td>0.0</td>\n",
       "      <td>unknown</td>\n",
       "      <td>5</td>\n",
       "      <td>may</td>\n",
       "      <td>247.0</td>\n",
       "      <td>1</td>\n",
       "      <td>-1</td>\n",
       "      <td>0.0</td>\n",
       "      <td>unknown</td>\n",
       "      <td>0.0</td>\n",
       "    </tr>\n",
       "    <tr>\n",
       "      <th>27</th>\n",
       "      <td>67.0</td>\n",
       "      <td>retired</td>\n",
       "      <td>married</td>\n",
       "      <td>unknown</td>\n",
       "      <td>0.0</td>\n",
       "      <td>696.0</td>\n",
       "      <td>0.0</td>\n",
       "      <td>0.0</td>\n",
       "      <td>telephone</td>\n",
       "      <td>17</td>\n",
       "      <td>aug</td>\n",
       "      <td>119.0</td>\n",
       "      <td>1</td>\n",
       "      <td>105</td>\n",
       "      <td>2.0</td>\n",
       "      <td>failure</td>\n",
       "      <td>0.0</td>\n",
       "    </tr>\n",
       "    <tr>\n",
       "      <th>28</th>\n",
       "      <td>56.0</td>\n",
       "      <td>self-employed</td>\n",
       "      <td>married</td>\n",
       "      <td>secondary</td>\n",
       "      <td>0.0</td>\n",
       "      <td>784.0</td>\n",
       "      <td>0.0</td>\n",
       "      <td>1.0</td>\n",
       "      <td>cellular</td>\n",
       "      <td>30</td>\n",
       "      <td>jul</td>\n",
       "      <td>149.0</td>\n",
       "      <td>2</td>\n",
       "      <td>-1</td>\n",
       "      <td>0.0</td>\n",
       "      <td>unknown</td>\n",
       "      <td>0.0</td>\n",
       "    </tr>\n",
       "    <tr>\n",
       "      <th>29</th>\n",
       "      <td>53.0</td>\n",
       "      <td>admin.</td>\n",
       "      <td>married</td>\n",
       "      <td>secondary</td>\n",
       "      <td>0.0</td>\n",
       "      <td>105.0</td>\n",
       "      <td>0.0</td>\n",
       "      <td>1.0</td>\n",
       "      <td>cellular</td>\n",
       "      <td>21</td>\n",
       "      <td>aug</td>\n",
       "      <td>74.0</td>\n",
       "      <td>2</td>\n",
       "      <td>-1</td>\n",
       "      <td>0.0</td>\n",
       "      <td>unknown</td>\n",
       "      <td>0.0</td>\n",
       "    </tr>\n",
       "    <tr>\n",
       "      <th>...</th>\n",
       "      <td>...</td>\n",
       "      <td>...</td>\n",
       "      <td>...</td>\n",
       "      <td>...</td>\n",
       "      <td>...</td>\n",
       "      <td>...</td>\n",
       "      <td>...</td>\n",
       "      <td>...</td>\n",
       "      <td>...</td>\n",
       "      <td>...</td>\n",
       "      <td>...</td>\n",
       "      <td>...</td>\n",
       "      <td>...</td>\n",
       "      <td>...</td>\n",
       "      <td>...</td>\n",
       "      <td>...</td>\n",
       "      <td>...</td>\n",
       "    </tr>\n",
       "    <tr>\n",
       "      <th>4491</th>\n",
       "      <td>35.0</td>\n",
       "      <td>blue-collar</td>\n",
       "      <td>single</td>\n",
       "      <td>secondary</td>\n",
       "      <td>0.0</td>\n",
       "      <td>0.0</td>\n",
       "      <td>1.0</td>\n",
       "      <td>0.0</td>\n",
       "      <td>cellular</td>\n",
       "      <td>16</td>\n",
       "      <td>apr</td>\n",
       "      <td>169.0</td>\n",
       "      <td>1</td>\n",
       "      <td>-1</td>\n",
       "      <td>0.0</td>\n",
       "      <td>unknown</td>\n",
       "      <td>0.0</td>\n",
       "    </tr>\n",
       "    <tr>\n",
       "      <th>4492</th>\n",
       "      <td>32.0</td>\n",
       "      <td>technician</td>\n",
       "      <td>single</td>\n",
       "      <td>secondary</td>\n",
       "      <td>0.0</td>\n",
       "      <td>309.0</td>\n",
       "      <td>1.0</td>\n",
       "      <td>1.0</td>\n",
       "      <td>cellular</td>\n",
       "      <td>16</td>\n",
       "      <td>apr</td>\n",
       "      <td>346.0</td>\n",
       "      <td>1</td>\n",
       "      <td>234</td>\n",
       "      <td>3.0</td>\n",
       "      <td>failure</td>\n",
       "      <td>0.0</td>\n",
       "    </tr>\n",
       "    <tr>\n",
       "      <th>4493</th>\n",
       "      <td>28.0</td>\n",
       "      <td>technician</td>\n",
       "      <td>single</td>\n",
       "      <td>tertiary</td>\n",
       "      <td>0.0</td>\n",
       "      <td>0.0</td>\n",
       "      <td>1.0</td>\n",
       "      <td>0.0</td>\n",
       "      <td>unknown</td>\n",
       "      <td>4</td>\n",
       "      <td>jun</td>\n",
       "      <td>205.0</td>\n",
       "      <td>6</td>\n",
       "      <td>-1</td>\n",
       "      <td>0.0</td>\n",
       "      <td>unknown</td>\n",
       "      <td>0.0</td>\n",
       "    </tr>\n",
       "    <tr>\n",
       "      <th>4494</th>\n",
       "      <td>26.0</td>\n",
       "      <td>technician</td>\n",
       "      <td>single</td>\n",
       "      <td>secondary</td>\n",
       "      <td>0.0</td>\n",
       "      <td>668.0</td>\n",
       "      <td>1.0</td>\n",
       "      <td>0.0</td>\n",
       "      <td>unknown</td>\n",
       "      <td>28</td>\n",
       "      <td>may</td>\n",
       "      <td>576.0</td>\n",
       "      <td>3</td>\n",
       "      <td>-1</td>\n",
       "      <td>0.0</td>\n",
       "      <td>unknown</td>\n",
       "      <td>1.0</td>\n",
       "    </tr>\n",
       "    <tr>\n",
       "      <th>4495</th>\n",
       "      <td>48.0</td>\n",
       "      <td>management</td>\n",
       "      <td>married</td>\n",
       "      <td>tertiary</td>\n",
       "      <td>0.0</td>\n",
       "      <td>1175.0</td>\n",
       "      <td>1.0</td>\n",
       "      <td>0.0</td>\n",
       "      <td>telephone</td>\n",
       "      <td>18</td>\n",
       "      <td>nov</td>\n",
       "      <td>1476.0</td>\n",
       "      <td>3</td>\n",
       "      <td>-1</td>\n",
       "      <td>0.0</td>\n",
       "      <td>unknown</td>\n",
       "      <td>0.0</td>\n",
       "    </tr>\n",
       "    <tr>\n",
       "      <th>4496</th>\n",
       "      <td>30.0</td>\n",
       "      <td>blue-collar</td>\n",
       "      <td>single</td>\n",
       "      <td>secondary</td>\n",
       "      <td>0.0</td>\n",
       "      <td>363.0</td>\n",
       "      <td>0.0</td>\n",
       "      <td>0.0</td>\n",
       "      <td>cellular</td>\n",
       "      <td>28</td>\n",
       "      <td>jul</td>\n",
       "      <td>171.0</td>\n",
       "      <td>3</td>\n",
       "      <td>-1</td>\n",
       "      <td>0.0</td>\n",
       "      <td>unknown</td>\n",
       "      <td>0.0</td>\n",
       "    </tr>\n",
       "    <tr>\n",
       "      <th>4497</th>\n",
       "      <td>31.0</td>\n",
       "      <td>entrepreneur</td>\n",
       "      <td>single</td>\n",
       "      <td>tertiary</td>\n",
       "      <td>0.0</td>\n",
       "      <td>38.0</td>\n",
       "      <td>0.0</td>\n",
       "      <td>0.0</td>\n",
       "      <td>cellular</td>\n",
       "      <td>20</td>\n",
       "      <td>nov</td>\n",
       "      <td>185.0</td>\n",
       "      <td>2</td>\n",
       "      <td>-1</td>\n",
       "      <td>0.0</td>\n",
       "      <td>unknown</td>\n",
       "      <td>0.0</td>\n",
       "    </tr>\n",
       "    <tr>\n",
       "      <th>4498</th>\n",
       "      <td>31.0</td>\n",
       "      <td>management</td>\n",
       "      <td>married</td>\n",
       "      <td>tertiary</td>\n",
       "      <td>0.0</td>\n",
       "      <td>1183.0</td>\n",
       "      <td>1.0</td>\n",
       "      <td>0.0</td>\n",
       "      <td>unknown</td>\n",
       "      <td>27</td>\n",
       "      <td>may</td>\n",
       "      <td>676.0</td>\n",
       "      <td>6</td>\n",
       "      <td>-1</td>\n",
       "      <td>0.0</td>\n",
       "      <td>unknown</td>\n",
       "      <td>0.0</td>\n",
       "    </tr>\n",
       "    <tr>\n",
       "      <th>4499</th>\n",
       "      <td>45.0</td>\n",
       "      <td>blue-collar</td>\n",
       "      <td>divorced</td>\n",
       "      <td>primary</td>\n",
       "      <td>0.0</td>\n",
       "      <td>942.0</td>\n",
       "      <td>0.0</td>\n",
       "      <td>0.0</td>\n",
       "      <td>cellular</td>\n",
       "      <td>21</td>\n",
       "      <td>nov</td>\n",
       "      <td>362.0</td>\n",
       "      <td>1</td>\n",
       "      <td>-1</td>\n",
       "      <td>0.0</td>\n",
       "      <td>unknown</td>\n",
       "      <td>0.0</td>\n",
       "    </tr>\n",
       "    <tr>\n",
       "      <th>4500</th>\n",
       "      <td>38.0</td>\n",
       "      <td>admin.</td>\n",
       "      <td>married</td>\n",
       "      <td>secondary</td>\n",
       "      <td>0.0</td>\n",
       "      <td>4196.0</td>\n",
       "      <td>1.0</td>\n",
       "      <td>0.0</td>\n",
       "      <td>cellular</td>\n",
       "      <td>12</td>\n",
       "      <td>may</td>\n",
       "      <td>193.0</td>\n",
       "      <td>2</td>\n",
       "      <td>-1</td>\n",
       "      <td>0.0</td>\n",
       "      <td>unknown</td>\n",
       "      <td>0.0</td>\n",
       "    </tr>\n",
       "    <tr>\n",
       "      <th>4501</th>\n",
       "      <td>34.0</td>\n",
       "      <td>management</td>\n",
       "      <td>married</td>\n",
       "      <td>tertiary</td>\n",
       "      <td>0.0</td>\n",
       "      <td>297.0</td>\n",
       "      <td>1.0</td>\n",
       "      <td>0.0</td>\n",
       "      <td>cellular</td>\n",
       "      <td>26</td>\n",
       "      <td>aug</td>\n",
       "      <td>63.0</td>\n",
       "      <td>4</td>\n",
       "      <td>-1</td>\n",
       "      <td>0.0</td>\n",
       "      <td>unknown</td>\n",
       "      <td>0.0</td>\n",
       "    </tr>\n",
       "    <tr>\n",
       "      <th>4502</th>\n",
       "      <td>42.0</td>\n",
       "      <td>services</td>\n",
       "      <td>married</td>\n",
       "      <td>secondary</td>\n",
       "      <td>0.0</td>\n",
       "      <td>-91.0</td>\n",
       "      <td>1.0</td>\n",
       "      <td>1.0</td>\n",
       "      <td>cellular</td>\n",
       "      <td>5</td>\n",
       "      <td>feb</td>\n",
       "      <td>43.0</td>\n",
       "      <td>1</td>\n",
       "      <td>-1</td>\n",
       "      <td>0.0</td>\n",
       "      <td>unknown</td>\n",
       "      <td>0.0</td>\n",
       "    </tr>\n",
       "    <tr>\n",
       "      <th>4503</th>\n",
       "      <td>60.0</td>\n",
       "      <td>self-employed</td>\n",
       "      <td>married</td>\n",
       "      <td>primary</td>\n",
       "      <td>0.0</td>\n",
       "      <td>362.0</td>\n",
       "      <td>0.0</td>\n",
       "      <td>1.0</td>\n",
       "      <td>cellular</td>\n",
       "      <td>29</td>\n",
       "      <td>jul</td>\n",
       "      <td>816.0</td>\n",
       "      <td>6</td>\n",
       "      <td>-1</td>\n",
       "      <td>0.0</td>\n",
       "      <td>unknown</td>\n",
       "      <td>1.0</td>\n",
       "    </tr>\n",
       "    <tr>\n",
       "      <th>4504</th>\n",
       "      <td>42.0</td>\n",
       "      <td>blue-collar</td>\n",
       "      <td>single</td>\n",
       "      <td>secondary</td>\n",
       "      <td>0.0</td>\n",
       "      <td>1080.0</td>\n",
       "      <td>1.0</td>\n",
       "      <td>1.0</td>\n",
       "      <td>cellular</td>\n",
       "      <td>13</td>\n",
       "      <td>may</td>\n",
       "      <td>951.0</td>\n",
       "      <td>3</td>\n",
       "      <td>370</td>\n",
       "      <td>4.0</td>\n",
       "      <td>failure</td>\n",
       "      <td>1.0</td>\n",
       "    </tr>\n",
       "    <tr>\n",
       "      <th>4505</th>\n",
       "      <td>32.0</td>\n",
       "      <td>admin.</td>\n",
       "      <td>single</td>\n",
       "      <td>secondary</td>\n",
       "      <td>0.0</td>\n",
       "      <td>620.0</td>\n",
       "      <td>1.0</td>\n",
       "      <td>0.0</td>\n",
       "      <td>unknown</td>\n",
       "      <td>26</td>\n",
       "      <td>may</td>\n",
       "      <td>1234.0</td>\n",
       "      <td>3</td>\n",
       "      <td>-1</td>\n",
       "      <td>0.0</td>\n",
       "      <td>unknown</td>\n",
       "      <td>1.0</td>\n",
       "    </tr>\n",
       "    <tr>\n",
       "      <th>4506</th>\n",
       "      <td>42.0</td>\n",
       "      <td>unemployed</td>\n",
       "      <td>divorced</td>\n",
       "      <td>tertiary</td>\n",
       "      <td>0.0</td>\n",
       "      <td>-166.0</td>\n",
       "      <td>0.0</td>\n",
       "      <td>0.0</td>\n",
       "      <td>cellular</td>\n",
       "      <td>29</td>\n",
       "      <td>aug</td>\n",
       "      <td>85.0</td>\n",
       "      <td>4</td>\n",
       "      <td>-1</td>\n",
       "      <td>0.0</td>\n",
       "      <td>unknown</td>\n",
       "      <td>0.0</td>\n",
       "    </tr>\n",
       "    <tr>\n",
       "      <th>4507</th>\n",
       "      <td>33.0</td>\n",
       "      <td>services</td>\n",
       "      <td>married</td>\n",
       "      <td>secondary</td>\n",
       "      <td>0.0</td>\n",
       "      <td>288.0</td>\n",
       "      <td>1.0</td>\n",
       "      <td>0.0</td>\n",
       "      <td>cellular</td>\n",
       "      <td>17</td>\n",
       "      <td>apr</td>\n",
       "      <td>306.0</td>\n",
       "      <td>1</td>\n",
       "      <td>-1</td>\n",
       "      <td>0.0</td>\n",
       "      <td>unknown</td>\n",
       "      <td>0.0</td>\n",
       "    </tr>\n",
       "    <tr>\n",
       "      <th>4508</th>\n",
       "      <td>42.0</td>\n",
       "      <td>admin.</td>\n",
       "      <td>married</td>\n",
       "      <td>unknown</td>\n",
       "      <td>0.0</td>\n",
       "      <td>642.0</td>\n",
       "      <td>1.0</td>\n",
       "      <td>1.0</td>\n",
       "      <td>unknown</td>\n",
       "      <td>16</td>\n",
       "      <td>may</td>\n",
       "      <td>509.0</td>\n",
       "      <td>2</td>\n",
       "      <td>-1</td>\n",
       "      <td>0.0</td>\n",
       "      <td>unknown</td>\n",
       "      <td>0.0</td>\n",
       "    </tr>\n",
       "    <tr>\n",
       "      <th>4509</th>\n",
       "      <td>51.0</td>\n",
       "      <td>technician</td>\n",
       "      <td>married</td>\n",
       "      <td>tertiary</td>\n",
       "      <td>0.0</td>\n",
       "      <td>2506.0</td>\n",
       "      <td>0.0</td>\n",
       "      <td>0.0</td>\n",
       "      <td>cellular</td>\n",
       "      <td>30</td>\n",
       "      <td>nov</td>\n",
       "      <td>210.0</td>\n",
       "      <td>3</td>\n",
       "      <td>-1</td>\n",
       "      <td>0.0</td>\n",
       "      <td>unknown</td>\n",
       "      <td>0.0</td>\n",
       "    </tr>\n",
       "    <tr>\n",
       "      <th>4510</th>\n",
       "      <td>36.0</td>\n",
       "      <td>technician</td>\n",
       "      <td>divorced</td>\n",
       "      <td>secondary</td>\n",
       "      <td>0.0</td>\n",
       "      <td>566.0</td>\n",
       "      <td>1.0</td>\n",
       "      <td>0.0</td>\n",
       "      <td>unknown</td>\n",
       "      <td>20</td>\n",
       "      <td>may</td>\n",
       "      <td>129.0</td>\n",
       "      <td>2</td>\n",
       "      <td>-1</td>\n",
       "      <td>0.0</td>\n",
       "      <td>unknown</td>\n",
       "      <td>0.0</td>\n",
       "    </tr>\n",
       "    <tr>\n",
       "      <th>4511</th>\n",
       "      <td>46.0</td>\n",
       "      <td>blue-collar</td>\n",
       "      <td>married</td>\n",
       "      <td>secondary</td>\n",
       "      <td>0.0</td>\n",
       "      <td>668.0</td>\n",
       "      <td>1.0</td>\n",
       "      <td>0.0</td>\n",
       "      <td>unknown</td>\n",
       "      <td>15</td>\n",
       "      <td>may</td>\n",
       "      <td>1263.0</td>\n",
       "      <td>2</td>\n",
       "      <td>-1</td>\n",
       "      <td>0.0</td>\n",
       "      <td>unknown</td>\n",
       "      <td>1.0</td>\n",
       "    </tr>\n",
       "    <tr>\n",
       "      <th>4512</th>\n",
       "      <td>40.0</td>\n",
       "      <td>blue-collar</td>\n",
       "      <td>married</td>\n",
       "      <td>secondary</td>\n",
       "      <td>0.0</td>\n",
       "      <td>1100.0</td>\n",
       "      <td>1.0</td>\n",
       "      <td>0.0</td>\n",
       "      <td>unknown</td>\n",
       "      <td>29</td>\n",
       "      <td>may</td>\n",
       "      <td>660.0</td>\n",
       "      <td>2</td>\n",
       "      <td>-1</td>\n",
       "      <td>0.0</td>\n",
       "      <td>unknown</td>\n",
       "      <td>0.0</td>\n",
       "    </tr>\n",
       "    <tr>\n",
       "      <th>4513</th>\n",
       "      <td>49.0</td>\n",
       "      <td>blue-collar</td>\n",
       "      <td>married</td>\n",
       "      <td>secondary</td>\n",
       "      <td>0.0</td>\n",
       "      <td>322.0</td>\n",
       "      <td>0.0</td>\n",
       "      <td>0.0</td>\n",
       "      <td>cellular</td>\n",
       "      <td>14</td>\n",
       "      <td>aug</td>\n",
       "      <td>356.0</td>\n",
       "      <td>2</td>\n",
       "      <td>-1</td>\n",
       "      <td>0.0</td>\n",
       "      <td>unknown</td>\n",
       "      <td>0.0</td>\n",
       "    </tr>\n",
       "    <tr>\n",
       "      <th>4514</th>\n",
       "      <td>38.0</td>\n",
       "      <td>blue-collar</td>\n",
       "      <td>married</td>\n",
       "      <td>secondary</td>\n",
       "      <td>0.0</td>\n",
       "      <td>1205.0</td>\n",
       "      <td>1.0</td>\n",
       "      <td>0.0</td>\n",
       "      <td>cellular</td>\n",
       "      <td>20</td>\n",
       "      <td>apr</td>\n",
       "      <td>45.0</td>\n",
       "      <td>4</td>\n",
       "      <td>153</td>\n",
       "      <td>1.0</td>\n",
       "      <td>failure</td>\n",
       "      <td>0.0</td>\n",
       "    </tr>\n",
       "    <tr>\n",
       "      <th>4515</th>\n",
       "      <td>32.0</td>\n",
       "      <td>services</td>\n",
       "      <td>single</td>\n",
       "      <td>secondary</td>\n",
       "      <td>0.0</td>\n",
       "      <td>473.0</td>\n",
       "      <td>1.0</td>\n",
       "      <td>0.0</td>\n",
       "      <td>cellular</td>\n",
       "      <td>7</td>\n",
       "      <td>jul</td>\n",
       "      <td>624.0</td>\n",
       "      <td>5</td>\n",
       "      <td>-1</td>\n",
       "      <td>0.0</td>\n",
       "      <td>unknown</td>\n",
       "      <td>0.0</td>\n",
       "    </tr>\n",
       "    <tr>\n",
       "      <th>4516</th>\n",
       "      <td>33.0</td>\n",
       "      <td>services</td>\n",
       "      <td>married</td>\n",
       "      <td>secondary</td>\n",
       "      <td>0.0</td>\n",
       "      <td>-333.0</td>\n",
       "      <td>1.0</td>\n",
       "      <td>0.0</td>\n",
       "      <td>cellular</td>\n",
       "      <td>30</td>\n",
       "      <td>jul</td>\n",
       "      <td>329.0</td>\n",
       "      <td>5</td>\n",
       "      <td>-1</td>\n",
       "      <td>0.0</td>\n",
       "      <td>unknown</td>\n",
       "      <td>0.0</td>\n",
       "    </tr>\n",
       "    <tr>\n",
       "      <th>4517</th>\n",
       "      <td>57.0</td>\n",
       "      <td>self-employed</td>\n",
       "      <td>married</td>\n",
       "      <td>tertiary</td>\n",
       "      <td>1.0</td>\n",
       "      <td>-3313.0</td>\n",
       "      <td>1.0</td>\n",
       "      <td>1.0</td>\n",
       "      <td>unknown</td>\n",
       "      <td>9</td>\n",
       "      <td>may</td>\n",
       "      <td>153.0</td>\n",
       "      <td>1</td>\n",
       "      <td>-1</td>\n",
       "      <td>0.0</td>\n",
       "      <td>unknown</td>\n",
       "      <td>0.0</td>\n",
       "    </tr>\n",
       "    <tr>\n",
       "      <th>4518</th>\n",
       "      <td>57.0</td>\n",
       "      <td>technician</td>\n",
       "      <td>married</td>\n",
       "      <td>secondary</td>\n",
       "      <td>0.0</td>\n",
       "      <td>295.0</td>\n",
       "      <td>0.0</td>\n",
       "      <td>0.0</td>\n",
       "      <td>cellular</td>\n",
       "      <td>19</td>\n",
       "      <td>aug</td>\n",
       "      <td>151.0</td>\n",
       "      <td>11</td>\n",
       "      <td>-1</td>\n",
       "      <td>0.0</td>\n",
       "      <td>unknown</td>\n",
       "      <td>0.0</td>\n",
       "    </tr>\n",
       "    <tr>\n",
       "      <th>4519</th>\n",
       "      <td>28.0</td>\n",
       "      <td>blue-collar</td>\n",
       "      <td>married</td>\n",
       "      <td>secondary</td>\n",
       "      <td>0.0</td>\n",
       "      <td>1137.0</td>\n",
       "      <td>0.0</td>\n",
       "      <td>0.0</td>\n",
       "      <td>cellular</td>\n",
       "      <td>6</td>\n",
       "      <td>feb</td>\n",
       "      <td>129.0</td>\n",
       "      <td>4</td>\n",
       "      <td>211</td>\n",
       "      <td>3.0</td>\n",
       "      <td>other</td>\n",
       "      <td>0.0</td>\n",
       "    </tr>\n",
       "    <tr>\n",
       "      <th>4520</th>\n",
       "      <td>44.0</td>\n",
       "      <td>entrepreneur</td>\n",
       "      <td>single</td>\n",
       "      <td>tertiary</td>\n",
       "      <td>0.0</td>\n",
       "      <td>1136.0</td>\n",
       "      <td>1.0</td>\n",
       "      <td>1.0</td>\n",
       "      <td>cellular</td>\n",
       "      <td>3</td>\n",
       "      <td>apr</td>\n",
       "      <td>345.0</td>\n",
       "      <td>2</td>\n",
       "      <td>249</td>\n",
       "      <td>7.0</td>\n",
       "      <td>other</td>\n",
       "      <td>0.0</td>\n",
       "    </tr>\n",
       "  </tbody>\n",
       "</table>\n",
       "<p>4521 rows × 17 columns</p>\n",
       "</div>"
      ],
      "text/plain": [
       "       age            job   marital  education  default  balance  housing  \\\n",
       "0     30.0     unemployed   married    primary      0.0   1787.0      0.0   \n",
       "1     33.0       services   married  secondary      0.0   4789.0      1.0   \n",
       "2     35.0     management    single   tertiary      0.0   1350.0      1.0   \n",
       "3     30.0     management   married   tertiary      0.0   1476.0      1.0   \n",
       "4     59.0    blue-collar   married  secondary      0.0      0.0      1.0   \n",
       "5     35.0     management    single   tertiary      0.0    747.0      0.0   \n",
       "6     36.0  self-employed   married   tertiary      0.0    307.0      1.0   \n",
       "7     39.0     technician   married  secondary      0.0    147.0      1.0   \n",
       "8     41.0   entrepreneur   married   tertiary      0.0    221.0      1.0   \n",
       "9     43.0       services   married    primary      0.0    -88.0      1.0   \n",
       "10    39.0       services   married  secondary      0.0   9374.0      1.0   \n",
       "11    43.0         admin.   married  secondary      0.0    264.0      1.0   \n",
       "12    36.0     technician   married   tertiary      0.0   1109.0      0.0   \n",
       "13    20.0        student    single  secondary      0.0    502.0      0.0   \n",
       "14    31.0    blue-collar   married  secondary      0.0    360.0      1.0   \n",
       "15    40.0     management   married   tertiary      0.0    194.0      0.0   \n",
       "16    56.0     technician   married  secondary      0.0   4073.0      0.0   \n",
       "17    37.0         admin.    single   tertiary      0.0   2317.0      1.0   \n",
       "18    25.0    blue-collar    single    primary      0.0   -221.0      1.0   \n",
       "19    31.0       services   married  secondary      0.0    132.0      0.0   \n",
       "20    38.0     management  divorced    unknown      0.0      0.0      1.0   \n",
       "21    42.0     management  divorced   tertiary      0.0     16.0      0.0   \n",
       "22    44.0       services    single  secondary      0.0    106.0      0.0   \n",
       "23    44.0   entrepreneur   married  secondary      0.0     93.0      0.0   \n",
       "24    26.0      housemaid   married   tertiary      0.0    543.0      0.0   \n",
       "25    41.0     management   married   tertiary      0.0   5883.0      0.0   \n",
       "26    55.0    blue-collar   married    primary      0.0    627.0      1.0   \n",
       "27    67.0        retired   married    unknown      0.0    696.0      0.0   \n",
       "28    56.0  self-employed   married  secondary      0.0    784.0      0.0   \n",
       "29    53.0         admin.   married  secondary      0.0    105.0      0.0   \n",
       "...    ...            ...       ...        ...      ...      ...      ...   \n",
       "4491  35.0    blue-collar    single  secondary      0.0      0.0      1.0   \n",
       "4492  32.0     technician    single  secondary      0.0    309.0      1.0   \n",
       "4493  28.0     technician    single   tertiary      0.0      0.0      1.0   \n",
       "4494  26.0     technician    single  secondary      0.0    668.0      1.0   \n",
       "4495  48.0     management   married   tertiary      0.0   1175.0      1.0   \n",
       "4496  30.0    blue-collar    single  secondary      0.0    363.0      0.0   \n",
       "4497  31.0   entrepreneur    single   tertiary      0.0     38.0      0.0   \n",
       "4498  31.0     management   married   tertiary      0.0   1183.0      1.0   \n",
       "4499  45.0    blue-collar  divorced    primary      0.0    942.0      0.0   \n",
       "4500  38.0         admin.   married  secondary      0.0   4196.0      1.0   \n",
       "4501  34.0     management   married   tertiary      0.0    297.0      1.0   \n",
       "4502  42.0       services   married  secondary      0.0    -91.0      1.0   \n",
       "4503  60.0  self-employed   married    primary      0.0    362.0      0.0   \n",
       "4504  42.0    blue-collar    single  secondary      0.0   1080.0      1.0   \n",
       "4505  32.0         admin.    single  secondary      0.0    620.0      1.0   \n",
       "4506  42.0     unemployed  divorced   tertiary      0.0   -166.0      0.0   \n",
       "4507  33.0       services   married  secondary      0.0    288.0      1.0   \n",
       "4508  42.0         admin.   married    unknown      0.0    642.0      1.0   \n",
       "4509  51.0     technician   married   tertiary      0.0   2506.0      0.0   \n",
       "4510  36.0     technician  divorced  secondary      0.0    566.0      1.0   \n",
       "4511  46.0    blue-collar   married  secondary      0.0    668.0      1.0   \n",
       "4512  40.0    blue-collar   married  secondary      0.0   1100.0      1.0   \n",
       "4513  49.0    blue-collar   married  secondary      0.0    322.0      0.0   \n",
       "4514  38.0    blue-collar   married  secondary      0.0   1205.0      1.0   \n",
       "4515  32.0       services    single  secondary      0.0    473.0      1.0   \n",
       "4516  33.0       services   married  secondary      0.0   -333.0      1.0   \n",
       "4517  57.0  self-employed   married   tertiary      1.0  -3313.0      1.0   \n",
       "4518  57.0     technician   married  secondary      0.0    295.0      0.0   \n",
       "4519  28.0    blue-collar   married  secondary      0.0   1137.0      0.0   \n",
       "4520  44.0   entrepreneur    single   tertiary      0.0   1136.0      1.0   \n",
       "\n",
       "      loan    contact day month  duration campaign pdays  previous poutcome  \\\n",
       "0      0.0   cellular  19   oct      79.0        1    -1       0.0  unknown   \n",
       "1      1.0   cellular  11   may     220.0        1   339       4.0  failure   \n",
       "2      0.0   cellular  16   apr     185.0        1   330       1.0  failure   \n",
       "3      1.0    unknown   3   jun     199.0        4    -1       0.0  unknown   \n",
       "4      0.0    unknown   5   may     226.0        1    -1       0.0  unknown   \n",
       "5      0.0   cellular  23   feb     141.0        2   176       3.0  failure   \n",
       "6      0.0   cellular  14   may     341.0        1   330       2.0    other   \n",
       "7      0.0   cellular   6   may     151.0        2    -1       0.0  unknown   \n",
       "8      0.0    unknown  14   may      57.0        2    -1       0.0  unknown   \n",
       "9      1.0   cellular  17   apr     313.0        1   147       2.0  failure   \n",
       "10     0.0    unknown  20   may     273.0        1    -1       0.0  unknown   \n",
       "11     0.0   cellular  17   apr     113.0        2    -1       0.0  unknown   \n",
       "12     0.0   cellular  13   aug     328.0        2    -1       0.0  unknown   \n",
       "13     0.0   cellular  30   apr     261.0        1    -1       0.0  unknown   \n",
       "14     1.0   cellular  29   jan      89.0        1   241       1.0  failure   \n",
       "15     1.0   cellular  29   aug     189.0        2    -1       0.0  unknown   \n",
       "16     0.0   cellular  27   aug     239.0        5    -1       0.0  unknown   \n",
       "17     0.0   cellular  20   apr     114.0        1   152       2.0  failure   \n",
       "18     0.0    unknown  23   may     250.0        1    -1       0.0  unknown   \n",
       "19     0.0   cellular   7   jul     148.0        1   152       1.0    other   \n",
       "20     0.0   cellular  18   nov      96.0        2    -1       0.0  unknown   \n",
       "21     0.0   cellular  19   nov     140.0        3    -1       0.0  unknown   \n",
       "22     0.0    unknown  12   jun     109.0        2    -1       0.0  unknown   \n",
       "23     0.0   cellular   7   jul     125.0        2    -1       0.0  unknown   \n",
       "24     0.0   cellular  30   jan     169.0        3    -1       0.0  unknown   \n",
       "25     0.0   cellular  20   nov     182.0        2    -1       0.0  unknown   \n",
       "26     0.0    unknown   5   may     247.0        1    -1       0.0  unknown   \n",
       "27     0.0  telephone  17   aug     119.0        1   105       2.0  failure   \n",
       "28     1.0   cellular  30   jul     149.0        2    -1       0.0  unknown   \n",
       "29     1.0   cellular  21   aug      74.0        2    -1       0.0  unknown   \n",
       "...    ...        ...  ..   ...       ...      ...   ...       ...      ...   \n",
       "4491   0.0   cellular  16   apr     169.0        1    -1       0.0  unknown   \n",
       "4492   1.0   cellular  16   apr     346.0        1   234       3.0  failure   \n",
       "4493   0.0    unknown   4   jun     205.0        6    -1       0.0  unknown   \n",
       "4494   0.0    unknown  28   may     576.0        3    -1       0.0  unknown   \n",
       "4495   0.0  telephone  18   nov    1476.0        3    -1       0.0  unknown   \n",
       "4496   0.0   cellular  28   jul     171.0        3    -1       0.0  unknown   \n",
       "4497   0.0   cellular  20   nov     185.0        2    -1       0.0  unknown   \n",
       "4498   0.0    unknown  27   may     676.0        6    -1       0.0  unknown   \n",
       "4499   0.0   cellular  21   nov     362.0        1    -1       0.0  unknown   \n",
       "4500   0.0   cellular  12   may     193.0        2    -1       0.0  unknown   \n",
       "4501   0.0   cellular  26   aug      63.0        4    -1       0.0  unknown   \n",
       "4502   1.0   cellular   5   feb      43.0        1    -1       0.0  unknown   \n",
       "4503   1.0   cellular  29   jul     816.0        6    -1       0.0  unknown   \n",
       "4504   1.0   cellular  13   may     951.0        3   370       4.0  failure   \n",
       "4505   0.0    unknown  26   may    1234.0        3    -1       0.0  unknown   \n",
       "4506   0.0   cellular  29   aug      85.0        4    -1       0.0  unknown   \n",
       "4507   0.0   cellular  17   apr     306.0        1    -1       0.0  unknown   \n",
       "4508   1.0    unknown  16   may     509.0        2    -1       0.0  unknown   \n",
       "4509   0.0   cellular  30   nov     210.0        3    -1       0.0  unknown   \n",
       "4510   0.0    unknown  20   may     129.0        2    -1       0.0  unknown   \n",
       "4511   0.0    unknown  15   may    1263.0        2    -1       0.0  unknown   \n",
       "4512   0.0    unknown  29   may     660.0        2    -1       0.0  unknown   \n",
       "4513   0.0   cellular  14   aug     356.0        2    -1       0.0  unknown   \n",
       "4514   0.0   cellular  20   apr      45.0        4   153       1.0  failure   \n",
       "4515   0.0   cellular   7   jul     624.0        5    -1       0.0  unknown   \n",
       "4516   0.0   cellular  30   jul     329.0        5    -1       0.0  unknown   \n",
       "4517   1.0    unknown   9   may     153.0        1    -1       0.0  unknown   \n",
       "4518   0.0   cellular  19   aug     151.0       11    -1       0.0  unknown   \n",
       "4519   0.0   cellular   6   feb     129.0        4   211       3.0    other   \n",
       "4520   1.0   cellular   3   apr     345.0        2   249       7.0    other   \n",
       "\n",
       "        y  \n",
       "0     0.0  \n",
       "1     0.0  \n",
       "2     0.0  \n",
       "3     0.0  \n",
       "4     0.0  \n",
       "5     0.0  \n",
       "6     0.0  \n",
       "7     0.0  \n",
       "8     0.0  \n",
       "9     0.0  \n",
       "10    0.0  \n",
       "11    0.0  \n",
       "12    0.0  \n",
       "13    1.0  \n",
       "14    0.0  \n",
       "15    0.0  \n",
       "16    0.0  \n",
       "17    0.0  \n",
       "18    0.0  \n",
       "19    0.0  \n",
       "20    0.0  \n",
       "21    0.0  \n",
       "22    0.0  \n",
       "23    0.0  \n",
       "24    0.0  \n",
       "25    0.0  \n",
       "26    0.0  \n",
       "27    0.0  \n",
       "28    0.0  \n",
       "29    0.0  \n",
       "...   ...  \n",
       "4491  0.0  \n",
       "4492  0.0  \n",
       "4493  0.0  \n",
       "4494  1.0  \n",
       "4495  0.0  \n",
       "4496  0.0  \n",
       "4497  0.0  \n",
       "4498  0.0  \n",
       "4499  0.0  \n",
       "4500  0.0  \n",
       "4501  0.0  \n",
       "4502  0.0  \n",
       "4503  1.0  \n",
       "4504  1.0  \n",
       "4505  1.0  \n",
       "4506  0.0  \n",
       "4507  0.0  \n",
       "4508  0.0  \n",
       "4509  0.0  \n",
       "4510  0.0  \n",
       "4511  1.0  \n",
       "4512  0.0  \n",
       "4513  0.0  \n",
       "4514  0.0  \n",
       "4515  0.0  \n",
       "4516  0.0  \n",
       "4517  0.0  \n",
       "4518  0.0  \n",
       "4519  0.0  \n",
       "4520  0.0  \n",
       "\n",
       "[4521 rows x 17 columns]"
      ]
     },
     "execution_count": 99,
     "metadata": {},
     "output_type": "execute_result"
    }
   ],
   "source": [
    "f = open(\"bank.csv\")\n",
    "lines = f.readlines()\n",
    "header = filter(lambda x: x != '' and x !=';', lines[0].rstrip().split('\\\"'))\n",
    "dfbank = pd.DataFrame([np.array(l.rstrip().split(\";\")) for l in lines[1:]],columns=header)\n",
    "f.close()\n",
    "\n",
    "\n",
    "dfbank['default'] = dfbank['default'].map({'\"yes\"': 1.0, '\"no\"': 0.0})\n",
    "dfbank['housing'] = dfbank['housing'].map({'\"yes\"': 1.0, '\"no\"': 0.0})\n",
    "dfbank['loan'] = dfbank['loan'].map({'\"yes\"': 1.0, '\"no\"': 0.0})\n",
    "dfbank['y'] = dfbank['y'].map({'\"yes\"': 1.0, '\"no\"': 0.0})\n",
    "\n",
    "\n",
    "for col in ['job','marital','education','contact','month','poutcome']:\n",
    "    dfbank[col] = dfbank[col].map({x:x.rstrip('\"').lstrip('\"') for x in dfbank[col].value_counts().index})\n",
    "\n",
    "dfbank[['age','balance','duration','previous','y']] = dfbank[['age','balance','duration','previous','y']].astype(np.float32)\n",
    "\n",
    "dfreg = dfbank[['age','balance','duration','previous','y']]\n",
    "dfcat = dfbank[['job','marital','education','default','housing','loan','contact','poutcome','y']]\n",
    "dfbank"
   ]
  },
  {
   "cell_type": "markdown",
   "metadata": {},
   "source": [
    "#### Here we see the a HUGE asymetry between positive and negative classes. We will have to HEAVILY rely on recall (and to a lesser extent precision) if we want meaningful results from this analysis"
   ]
  },
  {
   "cell_type": "code",
   "execution_count": 18,
   "metadata": {
    "collapsed": false
   },
   "outputs": [
    {
     "name": "stdout",
     "output_type": "stream",
     "text": [
      "Successes: 521\n",
      "Total: 4521\n"
     ]
    }
   ],
   "source": [
    "print \"Successes:\",len(np.where(dfbank['y']==1)[0])\n",
    "print \"Total:\", len(dfbank['y'])"
   ]
  },
  {
   "cell_type": "markdown",
   "metadata": {},
   "source": [
    "#### Normalize, you know the drill. Due to the number of \"Unknown\" answers, and categorical features in general, and limited number of positive examples, I am forgoing outlier analysis, as it may hurt more than it would help"
   ]
  },
  {
   "cell_type": "code",
   "execution_count": 100,
   "metadata": {
    "collapsed": false
   },
   "outputs": [],
   "source": [
    "df = dfreg[dfreg.columns.drop('y')]\n",
    "df_norm = (df - df.mean()) / (df.max() - df.min())\n",
    "df_norm['y'] = dfreg['y']"
   ]
  },
  {
   "cell_type": "markdown",
   "metadata": {},
   "source": [
    "#### My favorite technique for categorical analysis is stacked crosstab analysis. It helps really show the quantitative inequalities between classes. Because there are way more no's than yes', we normalize the index so we can see the difference in ratio."
   ]
  },
  {
   "cell_type": "code",
   "execution_count": 20,
   "metadata": {
    "collapsed": false,
    "scrolled": false
   },
   "outputs": [
    {
     "data": {
      "image/png": "[encoded data removed]",
      "text/plain": [
       "<matplotlib.figure.Figure at 0x7fc26f1c93d0>"
      ]
     },
     "metadata": {},
     "output_type": "display_data"
    }
   ],
   "source": [
    "data_cols = dfcat.columns.drop('y')\n",
    "data = dfcat[data_cols]\n",
    "\n",
    "columns = 2\n",
    "rows = int( np.ceil( len(data_cols) / columns ) )+1\n",
    "f, axs = plt.subplots(ncols=3,figsize=(columns*10, rows*5) )\n",
    "\n",
    "for i, col in enumerate(data_cols[:]):\n",
    "    clarity_color_table = pd.crosstab(index=dfcat[\"y\"],columns=dfcat[col],normalize='index')\n",
    "    clarity_color_table.plot(kind=\"bar\", ax=plt.subplot2grid( (int(rows), int(columns)), (int(i//columns), int(i%columns))),stacked=True)"
   ]
  },
  {
   "cell_type": "markdown",
   "metadata": {},
   "source": [
    "#### We learn quite a bit here. Things like default don't really mean anything. But if you're in college, or single, on a cell phone, or even own a house, can have a mildly significant effect on whether you will become a customer.  But the one really significant feature that we see is poutcome success. Which makes complete sense, if they have bitten before they are more likely to bite again."
   ]
  },
  {
   "cell_type": "markdown",
   "metadata": {},
   "source": []
  },
  {
   "cell_type": "markdown",
   "metadata": {},
   "source": [
    "#### Now below we are going to look at the numerical data using histograms, same code as above. Normalized again of course."
   ]
  },
  {
   "cell_type": "code",
   "execution_count": 21,
   "metadata": {
    "collapsed": false,
    "scrolled": false
   },
   "outputs": [
    {
     "data": {
      "image/png": "[encoded data removed]",
      "text/plain": [
       "<matplotlib.figure.Figure at 0x7fc26f1c9850>"
      ]
     },
     "metadata": {},
     "output_type": "display_data"
    }
   ],
   "source": [
    "data_cols = df_norm.columns\n",
    "data = df_norm\n",
    "\n",
    "axarr = [[]]*len(data_cols)\n",
    "columns = 3\n",
    "rows = int( np.ceil( len(data_cols) / columns ) )+1\n",
    "f, fig = plt.subplots(figsize=(columns*3.5, rows*2) )\n",
    "\n",
    "for i, col in enumerate(data_cols[:]):\n",
    "    axarr[i] = plt.subplot2grid( (int(rows), int(columns)), (int(i//columns), int(i%columns)))\n",
    "    \n",
    "    no = data.loc[data.y == 0,col]\n",
    "    yes = data.loc[data.y == 1, col]\n",
    "    b = np.linspace(np.percentile(data[col],0.1), np.percentile(data[col],99.9), 30)\n",
    "    \n",
    "    \n",
    "    axarr[i].hist([no,yes], label=['no','yes'],bins=b,normed=True,color=[\"red\",\"blue\"] )\n",
    "    axarr[i].set_xlabel(col, size=12)\n",
    "    axarr[i].tick_params(axis='both', labelsize=10)\n",
    "    \n",
    "plt.tight_layout(rect=[0,0,1,0.95]) # xmin, ymin, xmax, ymax\n",
    "plt.show()"
   ]
  },
  {
   "cell_type": "markdown",
   "metadata": {},
   "source": [
    "#### So nothing really interesting here, except duration, which seems to skew towards success. Which also makes sense, the longer they stay on the phone the more likely they are to accept."
   ]
  },
  {
   "cell_type": "code",
   "execution_count": null,
   "metadata": {
    "collapsed": true
   },
   "outputs": [],
   "source": []
  },
  {
   "cell_type": "markdown",
   "metadata": {},
   "source": [
    "### The first model(s) we will be using is a decision tree. \n",
    "#### We will be using it as strictly a classifier, then rounding a decision tree regressor. \n",
    "#### We will take the regression from the decision tree into the next model to create a hybrid model."
   ]
  },
  {
   "cell_type": "code",
   "execution_count": 102,
   "metadata": {
    "collapsed": false
   },
   "outputs": [],
   "source": [
    "from sklearn.tree import DecisionTreeClassifier\n",
    "from sklearn import tree\n",
    "onehot = pd.get_dummies(dfcat)\n",
    "y = onehot.y\n",
    "onehot = onehot[onehot.columns.drop('y')]\n",
    "X_train, X_test, y_train, y_test = train_test_split(onehot, y, \n",
    "                                                    test_size=0.20,\n",
    "                                                    random_state=100)"
   ]
  },
  {
   "cell_type": "markdown",
   "metadata": {},
   "source": [
    "#### I used a gini criterion, with max depth of 6, and only 1 sample per leaf. These made sense given the data asymmetry and recommended heuristics"
   ]
  },
  {
   "cell_type": "code",
   "execution_count": 54,
   "metadata": {
    "collapsed": false
   },
   "outputs": [
    {
     "name": "stdout",
     "output_type": "stream",
     "text": [
      "Accuracy:  89.7237569061\n",
      "Recall:  11.5789473684\n",
      "Precsion:  55.0\n"
     ]
    }
   ],
   "source": [
    "clf_gini = DecisionTreeClassifier(criterion = \"gini\", random_state = 100,max_depth=6, min_samples_leaf=1)\n",
    "clf_gini.fit(X_train, y_train)\n",
    "y_pred = clf_gini.predict(X_test)\n",
    "print \"Accuracy: \", accuracy_score(y_test,y_pred)*100\n",
    "print \"Recall: \", recall_score(y_test,y_pred)*100\n",
    "print \"Precsion: \", precision_score(y_test,y_pred)*100"
   ]
  },
  {
   "cell_type": "markdown",
   "metadata": {},
   "source": [
    "#### Ok, so a few things of note, 1rst is that accuracy is pretty much a useless statistic. Just guessing 0 everytime would give you like 85% accuracy, so Recall, and precision are more important, specifically recall, because you really want to call as many possible customers as possible, given the cost/benefit of making a phone call. Recall at 11.5 is not good. Lets try to get that up shall we."
   ]
  },
  {
   "cell_type": "code",
   "execution_count": null,
   "metadata": {
    "collapsed": true
   },
   "outputs": [],
   "source": []
  },
  {
   "cell_type": "code",
   "execution_count": 81,
   "metadata": {
    "collapsed": false
   },
   "outputs": [
    {
     "data": {
      "text/html": [
       "<div>\n",
       "<table border=\"1\" class=\"dataframe\">\n",
       "  <thead>\n",
       "    <tr style=\"text-align: right;\">\n",
       "      <th></th>\n",
       "      <th>housing</th>\n",
       "      <th>job_retired</th>\n",
       "      <th>job_blue-collar</th>\n",
       "      <th>marital_married</th>\n",
       "      <th>contact_unknown</th>\n",
       "      <th>poutcome_success</th>\n",
       "      <th>loan</th>\n",
       "    </tr>\n",
       "  </thead>\n",
       "  <tbody>\n",
       "    <tr>\n",
       "      <th>0</th>\n",
       "      <td>0.045008</td>\n",
       "      <td>0.066031</td>\n",
       "      <td>0.031166</td>\n",
       "      <td>0.064788</td>\n",
       "      <td>0.162722</td>\n",
       "      <td>0.425006</td>\n",
       "      <td>0.07551</td>\n",
       "    </tr>\n",
       "  </tbody>\n",
       "</table>\n",
       "</div>"
      ],
      "text/plain": [
       "    housing  job_retired  job_blue-collar  marital_married  contact_unknown  \\\n",
       "0  0.045008     0.066031         0.031166         0.064788         0.162722   \n",
       "\n",
       "   poutcome_success     loan  \n",
       "0          0.425006  0.07551  "
      ]
     },
     "execution_count": 81,
     "metadata": {},
     "output_type": "execute_result"
    }
   ],
   "source": [
    "feat_dict = {x:y for x,y in zip(onehot.columns,clf_gini.feature_importances_) if y>0.03}\n",
    "pd.DataFrame(np.matrix(feat_dict.values()),columns=feat_dict.keys())"
   ]
  },
  {
   "cell_type": "markdown",
   "metadata": {},
   "source": [
    "#### so the categorical features with importance >0.03. Clearly poutcome_success is the biggest. CALL YOUR PREVIOUS SUCCESSES!"
   ]
  },
  {
   "cell_type": "code",
   "execution_count": null,
   "metadata": {
    "collapsed": true
   },
   "outputs": [],
   "source": []
  },
  {
   "cell_type": "code",
   "execution_count": 24,
   "metadata": {
    "collapsed": false
   },
   "outputs": [
    {
     "name": "stdout",
     "output_type": "stream",
     "text": [
      "Accuracy:  88.729281768\n",
      "Recall:  11.5789473684\n",
      "Precsion:  37.9310344828\n"
     ]
    }
   ],
   "source": [
    "from sklearn.tree import DecisionTreeRegressor  \n",
    "regressor = DecisionTreeRegressor()  \n",
    "regressor.fit(X_train, y_train)  \n",
    "y_pred = abs(np.round(regressor.predict(X_test)))\n",
    "print \"Accuracy: \", accuracy_score(y_test,y_pred)*100\n",
    "print \"Recall: \", recall_score(y_test,y_pred)*100\n",
    "print \"Precsion: \", precision_score(y_test,y_pred)*100\n",
    "y_feat_train = regressor.predict(X_train) \n",
    "y_feat_test = regressor.predict(X_test)"
   ]
  },
  {
   "cell_type": "code",
   "execution_count": 88,
   "metadata": {
    "collapsed": false
   },
   "outputs": [
    {
     "data": {
      "text/html": [
       "<div>\n",
       "<table border=\"1\" class=\"dataframe\">\n",
       "  <thead>\n",
       "    <tr style=\"text-align: right;\">\n",
       "      <th></th>\n",
       "      <th>marital_divorced</th>\n",
       "      <th>poutcome_failure</th>\n",
       "      <th>poutcome_success</th>\n",
       "      <th>housing</th>\n",
       "      <th>job_retired</th>\n",
       "      <th>education_unknown</th>\n",
       "      <th>marital_married</th>\n",
       "      <th>poutcome_other</th>\n",
       "      <th>education_secondary</th>\n",
       "      <th>education_primary</th>\n",
       "      <th>contact_unknown</th>\n",
       "      <th>loan</th>\n",
       "      <th>job_admin.</th>\n",
       "    </tr>\n",
       "  </thead>\n",
       "  <tbody>\n",
       "    <tr>\n",
       "      <th>0</th>\n",
       "      <td>0.035131</td>\n",
       "      <td>0.03179</td>\n",
       "      <td>0.219795</td>\n",
       "      <td>0.044719</td>\n",
       "      <td>0.036487</td>\n",
       "      <td>0.030472</td>\n",
       "      <td>0.038111</td>\n",
       "      <td>0.035774</td>\n",
       "      <td>0.033947</td>\n",
       "      <td>0.054134</td>\n",
       "      <td>0.039427</td>\n",
       "      <td>0.036141</td>\n",
       "      <td>0.043659</td>\n",
       "    </tr>\n",
       "  </tbody>\n",
       "</table>\n",
       "</div>"
      ],
      "text/plain": [
       "   marital_divorced  poutcome_failure  poutcome_success   housing  \\\n",
       "0          0.035131           0.03179          0.219795  0.044719   \n",
       "\n",
       "   job_retired  education_unknown  marital_married  poutcome_other  \\\n",
       "0     0.036487           0.030472         0.038111        0.035774   \n",
       "\n",
       "   education_secondary  education_primary  contact_unknown      loan  \\\n",
       "0             0.033947           0.054134         0.039427  0.036141   \n",
       "\n",
       "   job_admin.  \n",
       "0    0.043659  "
      ]
     },
     "execution_count": 88,
     "metadata": {},
     "output_type": "execute_result"
    }
   ],
   "source": [
    "feat_dict = {x:y for x,y in zip(onehot.columns,regressor.feature_importances_) if y>0.03}\n",
    "pd.DataFrame(np.matrix(feat_dict.values()),columns=feat_dict.keys())"
   ]
  },
  {
   "cell_type": "markdown",
   "metadata": {},
   "source": [
    "#### Same as above, with a rounded regressor this time, some more mildly important features, with repeat customers still in the lead by a lot"
   ]
  },
  {
   "cell_type": "code",
   "execution_count": null,
   "metadata": {
    "collapsed": true
   },
   "outputs": [],
   "source": []
  },
  {
   "cell_type": "markdown",
   "metadata": {},
   "source": [
    "### The next model for this dataset is going to be a simple crossvalidated ridge regression on the numerical data\n",
    "#### I want both validation and regularization for this model, due to the difficulty of classifying it."
   ]
  },
  {
   "cell_type": "code",
   "execution_count": 105,
   "metadata": {
    "collapsed": false
   },
   "outputs": [],
   "source": [
    "X = df_norm.drop('y', axis=1)  \n",
    "y = df_norm['y'] \n",
    "X_train, X_test, y_train, y_test = train_test_split(X, y, \n",
    "                                                    test_size=0.20,\n",
    "                                                    random_state=100)"
   ]
  },
  {
   "cell_type": "markdown",
   "metadata": {},
   "source": [
    "#### Cross validating the tuning of hyperparameter alpha to 5 sensible values between 0 and 1"
   ]
  },
  {
   "cell_type": "code",
   "execution_count": 106,
   "metadata": {
    "collapsed": false
   },
   "outputs": [
    {
     "data": {
      "text/plain": [
       "RidgeCV(alphas=[0.1, 0.5, 0.7, 0.8, 0.9], cv=5, fit_intercept=True,\n",
       "    gcv_mode=None, normalize=False, scoring=None, store_cv_values=False)"
      ]
     },
     "execution_count": 106,
     "metadata": {},
     "output_type": "execute_result"
    }
   ],
   "source": [
    "from sklearn import linear_model\n",
    "reg = linear_model.RidgeCV(alphas=[.1,.5,.7,.8,.9],cv=5)\n",
    "reg.fit(X_train,y_train) "
   ]
  },
  {
   "cell_type": "markdown",
   "metadata": {},
   "source": [
    "#### Here we see the coefficients of the model, which echo the above histograms. KEEP TALKING TO THEM FOR AS LONG AS POSSIBLE!!!"
   ]
  },
  {
   "cell_type": "code",
   "execution_count": 27,
   "metadata": {
    "collapsed": false
   },
   "outputs": [
    {
     "data": {
      "text/html": [
       "<div>\n",
       "<table border=\"1\" class=\"dataframe\">\n",
       "  <thead>\n",
       "    <tr style=\"text-align: right;\">\n",
       "      <th></th>\n",
       "      <th>age</th>\n",
       "      <th>balance</th>\n",
       "      <th>duration</th>\n",
       "      <th>previous</th>\n",
       "      <th>bias</th>\n",
       "    </tr>\n",
       "  </thead>\n",
       "  <tbody>\n",
       "    <tr>\n",
       "      <th>Coef</th>\n",
       "      <td>0.078668</td>\n",
       "      <td>0.101311</td>\n",
       "      <td>1.395864</td>\n",
       "      <td>0.54698</td>\n",
       "      <td>0.117851</td>\n",
       "    </tr>\n",
       "  </tbody>\n",
       "</table>\n",
       "</div>"
      ],
      "text/plain": [
       "           age   balance  duration  previous      bias\n",
       "Coef  0.078668  0.101311  1.395864   0.54698  0.117851"
      ]
     },
     "execution_count": 27,
     "metadata": {},
     "output_type": "execute_result"
    }
   ],
   "source": [
    "l = list(reg.coef_)\n",
    "l.append(reg.intercept_)\n",
    "pd.DataFrame(np.matrix(l),columns=X_train.columns.insert(4,\"bias\"),index=[\"Coef\"]) "
   ]
  },
  {
   "cell_type": "code",
   "execution_count": 107,
   "metadata": {
    "collapsed": false
   },
   "outputs": [
    {
     "name": "stdout",
     "output_type": "stream",
     "text": [
      "Accuracy:  89.5027624309\n",
      "Recall:  7.36842105263\n",
      "Precsion:  50.0\n"
     ]
    }
   ],
   "source": [
    "y_pred = abs(np.round(reg.predict(X_test)))\n",
    "print \"Accuracy: \", accuracy_score(y_test,y_pred)*100\n",
    "print \"Recall: \", recall_score(y_test,y_pred)*100\n",
    "print \"Precsion: \", precision_score(y_test,y_pred)*100"
   ]
  },
  {
   "cell_type": "markdown",
   "metadata": {},
   "source": [
    "#### That recall though. OOF"
   ]
  },
  {
   "cell_type": "markdown",
   "metadata": {},
   "source": [
    "#### F\n",
    "### F\n",
    "## F\n",
    "# F"
   ]
  },
  {
   "cell_type": "markdown",
   "metadata": {},
   "source": [
    "#### Here we do a little experiment, adding the regression values from the categorical data as a parameter to the linear ridge regression, in hopes of improving recall"
   ]
  },
  {
   "cell_type": "code",
   "execution_count": 108,
   "metadata": {
    "collapsed": false
   },
   "outputs": [],
   "source": [
    "X_train = X_train.assign(categorical = y_feat_train)\n",
    "X_test = X_test.assign(categorical = y_feat_test)"
   ]
  },
  {
   "cell_type": "markdown",
   "metadata": {
    "collapsed": true
   },
   "source": [
    "#### Same model as above, just one extra column"
   ]
  },
  {
   "cell_type": "code",
   "execution_count": 109,
   "metadata": {
    "collapsed": false
   },
   "outputs": [
    {
     "data": {
      "text/plain": [
       "RidgeCV(alphas=[0.1, 0.5, 0.7, 0.8, 0.9], cv=5, fit_intercept=True,\n",
       "    gcv_mode=None, normalize=False, scoring=None, store_cv_values=False)"
      ]
     },
     "execution_count": 109,
     "metadata": {},
     "output_type": "execute_result"
    }
   ],
   "source": [
    "reg = linear_model.RidgeCV(alphas=[.1,.5,.7,.8,.9],cv=5)\n",
    "reg.fit(X_train,y_train)"
   ]
  },
  {
   "cell_type": "markdown",
   "metadata": {},
   "source": [
    "#### Very interesting, it is not weighted that highly, although that may not mean it isn't making the model better"
   ]
  },
  {
   "cell_type": "code",
   "execution_count": 31,
   "metadata": {
    "collapsed": false
   },
   "outputs": [
    {
     "data": {
      "text/html": [
       "<div>\n",
       "<table border=\"1\" class=\"dataframe\">\n",
       "  <thead>\n",
       "    <tr style=\"text-align: right;\">\n",
       "      <th></th>\n",
       "      <th>age</th>\n",
       "      <th>balance</th>\n",
       "      <th>duration</th>\n",
       "      <th>previous</th>\n",
       "      <th>bias</th>\n",
       "      <th>categorical</th>\n",
       "    </tr>\n",
       "  </thead>\n",
       "  <tbody>\n",
       "    <tr>\n",
       "      <th>Coef</th>\n",
       "      <td>0.022527</td>\n",
       "      <td>-0.06508</td>\n",
       "      <td>1.030677</td>\n",
       "      <td>0.110238</td>\n",
       "      <td>0.904953</td>\n",
       "      <td>0.011159</td>\n",
       "    </tr>\n",
       "  </tbody>\n",
       "</table>\n",
       "</div>"
      ],
      "text/plain": [
       "           age  balance  duration  previous      bias  categorical\n",
       "Coef  0.022527 -0.06508  1.030677  0.110238  0.904953     0.011159"
      ]
     },
     "execution_count": 31,
     "metadata": {},
     "output_type": "execute_result"
    }
   ],
   "source": [
    "l = list(reg.coef_)\n",
    "l.append(reg.intercept_)\n",
    "pd.DataFrame(np.matrix(l),columns=X_train.columns.insert(4,\"bias\"),index=[\"Coef\"]) "
   ]
  },
  {
   "cell_type": "markdown",
   "metadata": {},
   "source": [
    "#### Alright! now we've improved recall, at the expense of precision, but if you have half a brain you realize why that doesn't matter"
   ]
  },
  {
   "cell_type": "code",
   "execution_count": 32,
   "metadata": {
    "collapsed": false
   },
   "outputs": [
    {
     "name": "stdout",
     "output_type": "stream",
     "text": [
      "Accuracy:  89.0607734807\n",
      "Recall:  14.7368421053\n",
      "Precsion:  43.75\n"
     ]
    }
   ],
   "source": [
    "y_pred = abs(np.round(reg.predict(X_test)))\n",
    "print \"Accuracy: \", accuracy_score(y_test,y_pred)*100\n",
    "print \"Recall: \", recall_score(y_test,y_pred)*100\n",
    "print \"Precsion: \", precision_score(y_test,y_pred)*100"
   ]
  },
  {
   "cell_type": "markdown",
   "metadata": {},
   "source": [
    "### So takeaways? You're always going to be shooting monkeys in the ocean, and will still need to get recall by call volume. However, keeping them on the phone longer and always calling repeat customers will help you become more successful!"
   ]
  },
  {
   "cell_type": "markdown",
   "metadata": {
    "collapsed": true
   },
   "source": [
    "Some references I had to peruse while writing this\n",
    "https://towardsdatascience.com/a-brief-overview-of-outlier-detection-techniques-1e0b2c19e561\n",
    "http://adataanalyst.com/data-analysis-resources/visualise-categorical-variables-in-python/\n",
    "https://stackabuse.com/decision-trees-in-python-with-scikit-learn/\n",
    "http://dataaspirant.com/2017/02/01/decision-tree-algorithm-python-with-scikit-learn/\n",
    "https://www.quora.com/What-is-the-difference-between-a-ROC-curve-and-a-precision-recall-curve-When-should-I-use-each\n",
    "https://www.learnopencv.com/svm-using-scikit-learn-in-python/\n",
    "https://scikit-learn.org/stable/modules/linear_model.html"
   ]
  }
 ],
 "metadata": {
  "anaconda-cloud": {},
  "kernelspec": {
   "display_name": "Python [conda env:py27]",
   "language": "python",
   "name": "conda-env-py27-py"
  },
  "language_info": {
   "codemirror_mode": {
    "name": "ipython",
    "version": 2
   },
   "file_extension": ".py",
   "mimetype": "text/x-python",
   "name": "python",
   "nbconvert_exporter": "python",
   "pygments_lexer": "ipython2",
   "version": "2.7.12"
  }
 },
 "nbformat": 4,
 "nbformat_minor": 2
}
